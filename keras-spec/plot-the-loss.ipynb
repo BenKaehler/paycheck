{
 "cells": [
  {
   "cell_type": "markdown",
   "metadata": {},
   "source": [
    "# Some Loss Plots\n",
    "\n",
    "We will test Model6 and Ben9, as they were two of the better-performing models, and because they use two different architectures."
   ]
  },
  {
   "cell_type": "code",
   "execution_count": 34,
   "metadata": {},
   "outputs": [],
   "source": [
    "import json\n",
    "\n",
    "import seaborn as sns\n",
    "from pandas import Series, DataFrame, melt\n",
    "from biom import Table\n",
    "from sklearn.preprocessing import OneHotEncoder\n",
    "from sklearn.model_selection import train_test_split\n",
    "from keras.models import model_from_json\n",
    "from qiime2 import Artifact\n",
    "from q2_types.feature_data import DNAIterator\n",
    "\n",
    "from q2_feature_classifier._keras import (\n",
    "    DNAEncoder, Seq2VecEncoder, _unpack_class_weights,\n",
    "    TaxonomicGenerator, )"
   ]
  },
  {
   "cell_type": "code",
   "execution_count": 23,
   "metadata": {},
   "outputs": [],
   "source": [
    "%matplotlib inline"
   ]
  },
  {
   "cell_type": "markdown",
   "metadata": {},
   "source": [
    "## Model6\n",
    "Load the data and set the parameters"
   ]
  },
  {
   "cell_type": "code",
   "execution_count": 2,
   "metadata": {},
   "outputs": [],
   "source": [
    "reference_reads = Artifact.load('/home/ben/Data/treepop/ref/ref-seqs-v4-150.qza')\n",
    "reference_reads = reference_reads.view(DNAIterator)\n",
    "reference_taxonomy = Artifact.load('/home/ben/Data/treepop/ref/ref-tax.qza')\n",
    "reference_taxonomy = reference_taxonomy.view(Series)\n",
    "classifier_specification = Artifact.load('/home/ben/Data/treepop/animal-distal-gut/specs/Model6.qza')\n",
    "classifier_specification = classifier_specification.view(dict)\n",
    "class_weight = Artifact.load('/home/ben/Data/treepop/animal-distal-gut/weights.qza')\n",
    "class_weight = class_weight.view(Table)\n",
    "sequence_encoder = 'Seq2VecEncoder'\n",
    "read_length = 144\n",
    "k = 7\n",
    "vec_length = 300\n",
    "window = 5\n",
    "n_jobs = 12\n",
    "loss = 'categorical_crossentropy'\n",
    "optimizer = 'adam'\n",
    "batch_size = 2048\n",
    "epochs = 20"
   ]
  },
  {
   "cell_type": "markdown",
   "metadata": {},
   "source": [
    "### Create the encoders"
   ]
  },
  {
   "cell_type": "code",
   "execution_count": 3,
   "metadata": {},
   "outputs": [
    {
     "data": {
      "text/plain": [
       "OneHotEncoder(handle_unknown='ignore', sparse=False)"
      ]
     },
     "execution_count": 3,
     "metadata": {},
     "output_type": "execute_result"
    }
   ],
   "source": [
    "# copy-and-pasted from _keras.fit_classifier_keras\n",
    "X, y = zip(*[(str(s), [reference_taxonomy[s.metadata['id']]])\n",
    "             for s in reference_reads\n",
    "             if s.metadata['id'] in reference_taxonomy])\n",
    "\n",
    "if sequence_encoder == 'DNAEncoder':\n",
    "    x_encoder = DNAEncoder(read_length)\n",
    "elif sequence_encoder == 'Seq2VecEncoder':\n",
    "    x_encoder = Seq2VecEncoder(k, vec_length, window, read_length, n_jobs)\n",
    "elif sequence_encoder == 'KmerEncoder':\n",
    "    x_encoder = KmerEncoder(k, vec_length, read_length)\n",
    "\n",
    "y_encoder = OneHotEncoder(sparse=False, handle_unknown='ignore')\n",
    "\n",
    "x_encoder.fit(X)\n",
    "y_encoder.fit(y)"
   ]
  },
  {
   "cell_type": "markdown",
   "metadata": {},
   "source": [
    "### Fit the model"
   ]
  },
  {
   "cell_type": "code",
   "execution_count": 4,
   "metadata": {},
   "outputs": [],
   "source": [
    "# also copy-and-pasted from _keras.fit_classifier_keras but modified\n",
    "# to track fitting progress\n",
    "# generators not handled well for keras validation\n",
    "X_train, X_test, y_train, y_test = train_test_split(\n",
    "    X, y, test_size=0.2, random_state=42)\n",
    "generator = TaxonomicGenerator(X_train, y_train, x_encoder, y_encoder, batch_size)\n",
    "x_val = x_encoder.transform(X_test)\n",
    "y_val = y_encoder.transform(y_test)\n",
    "class_weight = _unpack_class_weights(class_weight, y_encoder)\n",
    "val_sample_weights = y_val.dot(class_weight)\n",
    "validation_data = (x_val, y_val, val_sample_weights)"
   ]
  },
  {
   "cell_type": "code",
   "execution_count": 5,
   "metadata": {},
   "outputs": [
    {
     "name": "stdout",
     "output_type": "stream",
     "text": [
      "Epoch 1/20\n",
      "80/80 [==============================] - 108s 1s/step - loss: 0.0098 - accuracy: 0.1342 - val_loss: 0.0039 - val_accuracy: 0.2266\n",
      "Epoch 2/20\n",
      "80/80 [==============================] - 114s 1s/step - loss: 0.0034 - accuracy: 0.2741 - val_loss: 0.0031 - val_accuracy: 0.3089\n",
      "Epoch 3/20\n",
      "80/80 [==============================] - 116s 1s/step - loss: 0.0029 - accuracy: 0.3431 - val_loss: 0.0029 - val_accuracy: 0.3721\n",
      "Epoch 4/20\n",
      "80/80 [==============================] - 118s 1s/step - loss: 0.0026 - accuracy: 0.3913 - val_loss: 0.0027 - val_accuracy: 0.4092\n",
      "Epoch 5/20\n",
      "80/80 [==============================] - 125s 2s/step - loss: 0.0025 - accuracy: 0.4203 - val_loss: 0.0026 - val_accuracy: 0.4312\n",
      "Epoch 6/20\n",
      "80/80 [==============================] - 129s 2s/step - loss: 0.0024 - accuracy: 0.4449 - val_loss: 0.0027 - val_accuracy: 0.4446\n",
      "Epoch 7/20\n",
      "80/80 [==============================] - 130s 2s/step - loss: 0.0022 - accuracy: 0.4668 - val_loss: 0.0026 - val_accuracy: 0.4702\n",
      "Epoch 8/20\n",
      "80/80 [==============================] - 141s 2s/step - loss: 0.0022 - accuracy: 0.4804 - val_loss: 0.0026 - val_accuracy: 0.4676\n",
      "Epoch 9/20\n",
      "80/80 [==============================] - 161s 2s/step - loss: 0.0020 - accuracy: 0.4934 - val_loss: 0.0025 - val_accuracy: 0.4888\n",
      "Epoch 10/20\n",
      "80/80 [==============================] - 152s 2s/step - loss: 0.0020 - accuracy: 0.5030 - val_loss: 0.0025 - val_accuracy: 0.4903\n",
      "Epoch 11/20\n",
      "80/80 [==============================] - 138s 2s/step - loss: 0.0019 - accuracy: 0.5129 - val_loss: 0.0026 - val_accuracy: 0.5016\n",
      "Epoch 12/20\n",
      "80/80 [==============================] - 137s 2s/step - loss: 0.0019 - accuracy: 0.5200 - val_loss: 0.0026 - val_accuracy: 0.5129\n",
      "Epoch 13/20\n",
      "80/80 [==============================] - 137s 2s/step - loss: 0.0018 - accuracy: 0.5291 - val_loss: 0.0026 - val_accuracy: 0.5224\n",
      "Epoch 14/20\n",
      "80/80 [==============================] - 134s 2s/step - loss: 0.0018 - accuracy: 0.5367 - val_loss: 0.0026 - val_accuracy: 0.5174\n",
      "Epoch 15/20\n",
      "80/80 [==============================] - 136s 2s/step - loss: 0.0018 - accuracy: 0.5403 - val_loss: 0.0026 - val_accuracy: 0.5312\n",
      "Epoch 16/20\n",
      "80/80 [==============================] - 134s 2s/step - loss: 0.0018 - accuracy: 0.5454 - val_loss: 0.0028 - val_accuracy: 0.5384\n",
      "Epoch 17/20\n",
      "80/80 [==============================] - 135s 2s/step - loss: 0.0017 - accuracy: 0.5520 - val_loss: 0.0027 - val_accuracy: 0.5380\n",
      "Epoch 18/20\n",
      "80/80 [==============================] - 138s 2s/step - loss: 0.0016 - accuracy: 0.5553 - val_loss: 0.0027 - val_accuracy: 0.5453\n",
      "Epoch 19/20\n",
      "80/80 [==============================] - 133s 2s/step - loss: 0.0017 - accuracy: 0.5601 - val_loss: 0.0030 - val_accuracy: 0.5484\n",
      "Epoch 20/20\n",
      "80/80 [==============================] - 141s 2s/step - loss: 0.0017 - accuracy: 0.5631 - val_loss: 0.0028 - val_accuracy: 0.5402\n"
     ]
    },
    {
     "data": {
      "text/plain": [
       "<tensorflow.python.keras.callbacks.History at 0x7f59502749e8>"
      ]
     },
     "execution_count": 5,
     "metadata": {},
     "output_type": "execute_result"
    }
   ],
   "source": [
    "# EEE So now we need to assert somewhere that keras_version is >= 2.3.0\n",
    "model = model_from_json(json.dumps(classifier_specification))\n",
    "classifier_specification = json.loads(model.to_json())  # to standardise\n",
    "classifier_specification['config']['layers'][-1]['config']['units'] = \\\n",
    "    validation_data[1].shape[1]\n",
    "model = model_from_json(json.dumps(classifier_specification))\n",
    "model.compile(loss=loss, optimizer=optimizer, metrics=['accuracy'])\n",
    "class_weight = {i: class_weight[i] for i in range(len(class_weight))}\n",
    "history = model.fit(generator, epochs=epochs, class_weight=class_weight,\n",
    "                    batch_size=batch_size, validation_data=validation_data)"
   ]
  },
  {
   "cell_type": "code",
   "execution_count": 38,
   "metadata": {},
   "outputs": [
    {
     "data": {
      "text/plain": [
       "<matplotlib.axes._subplots.AxesSubplot at 0x7f5918fdcc18>"
      ]
     },
     "execution_count": 38,
     "metadata": {},
     "output_type": "execute_result"
    },
    {
     "data": {
      "image/png": "[encoded data removed]",
      "text/plain": [
       "<Figure size 432x288 with 1 Axes>"
      ]
     },
     "metadata": {
      "needs_background": "light"
     },
     "output_type": "display_data"
    }
   ],
   "source": [
    "data = DataFrame({\n",
    "    'train': history.history['accuracy'],\n",
    "    'test': history.history['val_accuracy'],\n",
    "    'epoch': range(1, len(history.history['accuracy']) + 1)\n",
    "})\n",
    "data = data.melt(id_vars='epoch', var_name='sample', value_name='accuracy')\n",
    "sns.lineplot(data=data, x='epoch', y='accuracy', hue='sample')"
   ]
  },
  {
   "cell_type": "markdown",
   "metadata": {},
   "source": [
    "### Save the history to save fitting the model again"
   ]
  },
  {
   "cell_type": "code",
   "execution_count": 40,
   "metadata": {},
   "outputs": [],
   "source": [
    "with open('model6-history.json', 'w') as history_file:\n",
    "    json.dump(history.history, history_file)"
   ]
  },
  {
   "cell_type": "markdown",
   "metadata": {},
   "source": [
    "## Ben9\n",
    "Load the data and set the parameters"
   ]
  },
  {
   "cell_type": "code",
   "execution_count": 52,
   "metadata": {},
   "outputs": [],
   "source": [
    "reference_reads = Artifact.load('/home/ben/Data/treepop/ref/ref-seqs-v4-150.qza')\n",
    "reference_reads = reference_reads.view(DNAIterator)\n",
    "reference_taxonomy = Artifact.load('/home/ben/Data/treepop/ref/ref-tax.qza')\n",
    "reference_taxonomy = reference_taxonomy.view(Series)\n",
    "classifier_specification = Artifact.load('/home/ben/Data/treepop/animal-distal-gut/specs/Ben9.qza')\n",
    "classifier_specification = classifier_specification.view(dict)\n",
    "class_weight = Artifact.load('/home/ben/Data/treepop/animal-distal-gut/weights.qza')\n",
    "class_weight = class_weight.view(Table)\n",
    "sequence_encoder = 'DNAEncoder'\n",
    "read_length = 150\n",
    "k = 7\n",
    "vec_length = 300\n",
    "window = 5\n",
    "n_jobs = 1\n",
    "loss = 'categorical_crossentropy'\n",
    "optimizer = 'adam'\n",
    "batch_size = 64\n",
    "epochs = 20"
   ]
  },
  {
   "cell_type": "markdown",
   "metadata": {},
   "source": [
    "### Create the encoders"
   ]
  },
  {
   "cell_type": "code",
   "execution_count": 53,
   "metadata": {},
   "outputs": [
    {
     "data": {
      "text/plain": [
       "OneHotEncoder(handle_unknown='ignore', sparse=False)"
      ]
     },
     "execution_count": 53,
     "metadata": {},
     "output_type": "execute_result"
    }
   ],
   "source": [
    "# copy-and-pasted from _keras.fit_classifier_keras\n",
    "X, y = zip(*[(str(s), [reference_taxonomy[s.metadata['id']]])\n",
    "             for s in reference_reads\n",
    "             if s.metadata['id'] in reference_taxonomy])\n",
    "\n",
    "if sequence_encoder == 'DNAEncoder':\n",
    "    x_encoder = DNAEncoder(read_length)\n",
    "elif sequence_encoder == 'Seq2VecEncoder':\n",
    "    x_encoder = Seq2VecEncoder(k, vec_length, window, read_length, n_jobs)\n",
    "elif sequence_encoder == 'KmerEncoder':\n",
    "    x_encoder = KmerEncoder(k, vec_length, read_length)\n",
    "\n",
    "y_encoder = OneHotEncoder(sparse=False, handle_unknown='ignore')\n",
    "\n",
    "x_encoder.fit(X)\n",
    "y_encoder.fit(y)"
   ]
  },
  {
   "cell_type": "markdown",
   "metadata": {},
   "source": [
    "### Fit the model"
   ]
  },
  {
   "cell_type": "code",
   "execution_count": 54,
   "metadata": {},
   "outputs": [],
   "source": [
    "# also copy-and-pasted from _keras.fit_classifier_keras but modified\n",
    "# to track fitting progress\n",
    "# generators not handled well for keras validation\n",
    "X_train, X_test, y_train, y_test = train_test_split(\n",
    "    X, y, test_size=0.2, random_state=42)\n",
    "generator = TaxonomicGenerator(X_train, y_train, x_encoder, y_encoder, batch_size)\n",
    "x_val = x_encoder.transform(X_test)\n",
    "y_val = y_encoder.transform(y_test)\n",
    "class_weight = _unpack_class_weights(class_weight, y_encoder)\n",
    "val_sample_weights = y_val.dot(class_weight)\n",
    "validation_data = (x_val, y_val, val_sample_weights)"
   ]
  },
  {
   "cell_type": "code",
   "execution_count": 55,
   "metadata": {},
   "outputs": [
    {
     "name": "stdout",
     "output_type": "stream",
     "text": [
      "Epoch 1/20\n",
      "   2/2537 [..............................] - ETA: 1:12 - loss: 0.0758 - accuracy: 0.0078  WARNING:tensorflow:Callbacks method `on_train_batch_end` is slow compared to the batch time (batch time: 0.0191s vs `on_train_batch_end` time: 0.0377s). Check your callbacks.\n",
      "2537/2537 [==============================] - 685s 270ms/step - loss: 0.0099 - accuracy: 0.1162 - val_loss: 0.0049 - val_accuracy: 0.2053\n",
      "Epoch 2/20\n",
      "2537/2537 [==============================] - 1368s 539ms/step - loss: 0.0042 - accuracy: 0.2594 - val_loss: 0.0038 - val_accuracy: 0.2933\n",
      "Epoch 3/20\n",
      "2537/2537 [==============================] - 1169s 461ms/step - loss: 0.0035 - accuracy: 0.3255 - val_loss: 0.0032 - val_accuracy: 0.3555\n",
      "Epoch 4/20\n",
      "2537/2537 [==============================] - 1086s 428ms/step - loss: 0.0031 - accuracy: 0.3594 - val_loss: 0.0032 - val_accuracy: 0.3876\n",
      "Epoch 5/20\n",
      "2537/2537 [==============================] - 1207s 476ms/step - loss: 0.0028 - accuracy: 0.3927 - val_loss: 0.0031 - val_accuracy: 0.3966\n",
      "Epoch 6/20\n",
      "2537/2537 [==============================] - 1275s 503ms/step - loss: 0.0028 - accuracy: 0.4102 - val_loss: 0.0033 - val_accuracy: 0.3956\n",
      "Epoch 7/20\n",
      "2537/2537 [==============================] - 1242s 489ms/step - loss: 0.0024 - accuracy: 0.4359 - val_loss: 0.0032 - val_accuracy: 0.4415\n",
      "Epoch 8/20\n",
      "2537/2537 [==============================] - 1157s 456ms/step - loss: 0.0024 - accuracy: 0.4459 - val_loss: 0.0033 - val_accuracy: 0.4481\n",
      "Epoch 9/20\n",
      "2537/2537 [==============================] - 1116s 440ms/step - loss: 0.0024 - accuracy: 0.4608 - val_loss: 0.0036 - val_accuracy: 0.4646\n",
      "Epoch 10/20\n",
      "2537/2537 [==============================] - 1260s 497ms/step - loss: 0.0022 - accuracy: 0.4733 - val_loss: 0.0033 - val_accuracy: 0.4499\n",
      "Epoch 11/20\n",
      "2537/2537 [==============================] - 1037s 409ms/step - loss: 0.0022 - accuracy: 0.4787 - val_loss: 0.0036 - val_accuracy: 0.4669\n",
      "Epoch 12/20\n",
      "2537/2537 [==============================] - 816s 322ms/step - loss: 0.0021 - accuracy: 0.4907 - val_loss: 0.0035 - val_accuracy: 0.4599\n",
      "Epoch 13/20\n",
      "2537/2537 [==============================] - 816s 322ms/step - loss: 0.0021 - accuracy: 0.4981 - val_loss: 0.0035 - val_accuracy: 0.4802\n",
      "Epoch 14/20\n",
      "2537/2537 [==============================] - 815s 321ms/step - loss: 0.0022 - accuracy: 0.4873 - val_loss: 0.0035 - val_accuracy: 0.4863\n",
      "Epoch 15/20\n",
      "2537/2537 [==============================] - 815s 321ms/step - loss: 0.0020 - accuracy: 0.5028 - val_loss: 0.0034 - val_accuracy: 0.4575\n",
      "Epoch 16/20\n",
      "2537/2537 [==============================] - 816s 322ms/step - loss: 0.0020 - accuracy: 0.5071 - val_loss: 0.0043 - val_accuracy: 0.5015\n",
      "Epoch 17/20\n",
      "2537/2537 [==============================] - 843s 332ms/step - loss: 0.0020 - accuracy: 0.5082 - val_loss: 0.0037 - val_accuracy: 0.4788\n",
      "Epoch 18/20\n",
      "2537/2537 [==============================] - 827s 326ms/step - loss: 0.0019 - accuracy: 0.5234 - val_loss: 0.0040 - val_accuracy: 0.5029\n",
      "Epoch 19/20\n",
      "2537/2537 [==============================] - 828s 327ms/step - loss: 0.0020 - accuracy: 0.5202 - val_loss: 0.0042 - val_accuracy: 0.4743\n",
      "Epoch 20/20\n",
      "2537/2537 [==============================] - 826s 326ms/step - loss: 0.0020 - accuracy: 0.5076 - val_loss: 0.0041 - val_accuracy: 0.4921\n"
     ]
    }
   ],
   "source": [
    "# EEE So now we need to assert somewhere that keras_version is >= 2.3.0\n",
    "model = model_from_json(json.dumps(classifier_specification))\n",
    "classifier_specification = json.loads(model.to_json())  # to standardise\n",
    "classifier_specification['config']['layers'][-1]['config']['units'] = \\\n",
    "    validation_data[1].shape[1]\n",
    "model = model_from_json(json.dumps(classifier_specification))\n",
    "model.compile(loss=loss, optimizer=optimizer, metrics=['accuracy'])\n",
    "class_weight = {i: class_weight[i] for i in range(len(class_weight))}\n",
    "history = model.fit(generator, epochs=epochs, class_weight=class_weight,\n",
    "                    batch_size=batch_size, validation_data=validation_data)"
   ]
  },
  {
   "cell_type": "code",
   "execution_count": 56,
   "metadata": {},
   "outputs": [
    {
     "data": {
      "text/plain": [
       "<matplotlib.axes._subplots.AxesSubplot at 0x7f59112fccc0>"
      ]
     },
     "execution_count": 56,
     "metadata": {},
     "output_type": "execute_result"
    },
    {
     "data": {
      "image/png": "[encoded data removed]",
      "text/plain": [
       "<Figure size 432x288 with 1 Axes>"
      ]
     },
     "metadata": {
      "needs_background": "light"
     },
     "output_type": "display_data"
    }
   ],
   "source": [
    "data = DataFrame({\n",
    "    'train': history.history['accuracy'],\n",
    "    'test': history.history['val_accuracy'],\n",
    "    'epoch': range(1, len(history.history['accuracy']) + 1)\n",
    "})\n",
    "data = data.melt(id_vars='epoch', var_name='sample', value_name='accuracy')\n",
    "sns.lineplot(data=data, x='epoch', y='accuracy', hue='sample')"
   ]
  },
  {
   "cell_type": "markdown",
   "metadata": {},
   "source": [
    "### Save the history to save fitting the model again"
   ]
  },
  {
   "cell_type": "code",
   "execution_count": 57,
   "metadata": {},
   "outputs": [],
   "source": [
    "with open('ben9-history.json', 'w') as history_file:\n",
    "    json.dump(history.history, history_file)"
   ]
  }
 ],
 "metadata": {
  "kernelspec": {
   "display_name": "Python 3",
   "language": "python",
   "name": "python3"
  },
  "language_info": {
   "codemirror_mode": {
    "name": "ipython",
    "version": 3
   },
   "file_extension": ".py",
   "mimetype": "text/x-python",
   "name": "python",
   "nbconvert_exporter": "python",
   "pygments_lexer": "ipython3",
   "version": "3.6.10"
  }
 },
 "nbformat": 4,
 "nbformat_minor": 4
}
