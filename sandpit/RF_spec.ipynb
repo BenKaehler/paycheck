{
 "cells": [
  {
   "cell_type": "code",
   "execution_count": 3,
   "metadata": {},
   "outputs": [],
   "source": [
    "import json\n",
    "\n",
    "from qiime2.plugins import feature_classifier\n",
    "import q2_feature_classifier\n",
    "\n",
    "from sklearn.pipeline import Pipeline\n",
    "from sklearn.ensemble import RandomForestClassifier\n",
    "from sklearn.feature_extraction.text import HashingVectorizer"
   ]
  },
  {
   "cell_type": "code",
   "execution_count": 4,
   "metadata": {},
   "outputs": [],
   "source": [
    "feature_classifier.methods.fit_classifier_naive_bayes?"
   ]
  },
  {
   "cell_type": "code",
   "execution_count": 5,
   "metadata": {},
   "outputs": [],
   "source": [
    "feature_classifier.methods.fit_classifier_sklearn?"
   ]
  },
  {
   "cell_type": "code",
   "execution_count": 6,
   "metadata": {},
   "outputs": [
    {
     "data": {
      "text/plain": [
       "[['naive_bayes',\n",
       "  [['feat_ext',\n",
       "    {'__type__': 'feature_extraction.text.HashingVectorizer',\n",
       "     'analyzer': 'char_wb',\n",
       "     'n_features': 8192,\n",
       "     'ngram_range': [7, 7],\n",
       "     'alternate_sign': False}],\n",
       "   ['classify',\n",
       "    {'__type__': 'custom.LowMemoryMultinomialNB',\n",
       "     'alpha': 0.001,\n",
       "     'fit_prior': False}]]]]"
      ]
     },
     "execution_count": 6,
     "metadata": {},
     "output_type": "execute_result"
    }
   ],
   "source": [
    "type(q2_feature_classifier._skl._specific_fitters)\n",
    "q2_feature_classifier._skl._specific_fitters"
   ]
  },
  {
   "cell_type": "code",
   "execution_count": 7,
   "metadata": {},
   "outputs": [],
   "source": [
    "nb_spec = q2_feature_classifier._skl._specific_fitters[0][1]\n",
    "pipeline = q2_feature_classifier.classifier.pipeline_from_spec(nb_spec)"
   ]
  },
  {
   "cell_type": "code",
   "execution_count": 8,
   "metadata": {},
   "outputs": [
    {
     "data": {
      "text/plain": [
       "Pipeline(memory=None,\n",
       "     steps=[['feat_ext', HashingVectorizer(alternate_sign=False, analyzer='char_wb', binary=False,\n",
       "         decode_error='strict', dtype=<class 'numpy.float64'>,\n",
       "         encoding='utf-8', input='content', lowercase=True,\n",
       "         n_features=8192, ngram_range=[7, 7], non_negative=False,\n",
       "         norm='l2...wMemoryMultinomialNB(alpha=0.001, chunk_size=20000, class_prior=None,\n",
       "            fit_prior=False)]])"
      ]
     },
     "execution_count": 8,
     "metadata": {},
     "output_type": "execute_result"
    }
   ],
   "source": [
    "pipeline"
   ]
  },
  {
   "cell_type": "code",
   "execution_count": 9,
   "metadata": {
    "scrolled": true
   },
   "outputs": [
    {
     "data": {
      "text/plain": [
       "[['feat_ext',\n",
       "  {'__type__': 'feature_extraction.text.HashingVectorizer',\n",
       "   'analyzer': 'char_wb',\n",
       "   'n_features': 8192,\n",
       "   'ngram_range': [7, 7],\n",
       "   'alternate_sign': False}],\n",
       " ['classify',\n",
       "  {'__type__': 'custom.LowMemoryMultinomialNB',\n",
       "   'alpha': 0.001,\n",
       "   'fit_prior': False}]]"
      ]
     },
     "execution_count": 9,
     "metadata": {},
     "output_type": "execute_result"
    }
   ],
   "source": [
    "nb_spec"
   ]
  },
  {
   "cell_type": "code",
   "execution_count": 10,
   "metadata": {},
   "outputs": [],
   "source": [
    "rf_spec = [nb_spec[0],]\n"
   ]
  },
  {
   "cell_type": "code",
   "execution_count": 20,
   "metadata": {},
   "outputs": [],
   "source": [
    "feat_ext = HashingVectorizer(\n",
    "    analyzer='char_wb',\n",
    "    n_features=8192,\n",
    "    ngram_range= [7, 7],\n",
    "    alternate_sign= False)\n",
    "classify = RandomForestClassifier()\n",
    "steps = [['feat_ext', feat_ext],\n",
    "         ['classify', classify]]\n",
    "pipeline = Pipeline(steps=steps)"
   ]
  },
  {
   "cell_type": "code",
   "execution_count": 21,
   "metadata": {},
   "outputs": [],
   "source": [
    "rf_spec = q2_feature_classifier.classifier.spec_from_pipeline(pipeline)"
   ]
  },
  {
   "cell_type": "code",
   "execution_count": 22,
   "metadata": {},
   "outputs": [
    {
     "data": {
      "text/plain": [
       "[['feat_ext',\n",
       "  {'alternate_sign': False,\n",
       "   'analyzer': 'char_wb',\n",
       "   'binary': False,\n",
       "   'decode_error': 'strict',\n",
       "   'encoding': 'utf-8',\n",
       "   'input': 'content',\n",
       "   'lowercase': True,\n",
       "   'n_features': 8192,\n",
       "   'ngram_range': [7, 7],\n",
       "   'non_negative': False,\n",
       "   'norm': 'l2',\n",
       "   'preprocessor': None,\n",
       "   'stop_words': None,\n",
       "   'strip_accents': None,\n",
       "   'token_pattern': '(?u)\\\\b\\\\w\\\\w+\\\\b',\n",
       "   'tokenizer': None,\n",
       "   '__type__': 'feature_extraction.text.HashingVectorizer'}],\n",
       " ['classify',\n",
       "  {'bootstrap': True,\n",
       "   'class_weight': None,\n",
       "   'criterion': 'gini',\n",
       "   'max_depth': None,\n",
       "   'max_features': 'auto',\n",
       "   'max_leaf_nodes': None,\n",
       "   'min_impurity_decrease': 0.0,\n",
       "   'min_impurity_split': None,\n",
       "   'min_samples_leaf': 1,\n",
       "   'min_samples_split': 2,\n",
       "   'min_weight_fraction_leaf': 0.0,\n",
       "   'n_estimators': 'warn',\n",
       "   'n_jobs': None,\n",
       "   'oob_score': False,\n",
       "   'random_state': None,\n",
       "   'verbose': 0,\n",
       "   'warm_start': False,\n",
       "   '__type__': 'ensemble.forest.RandomForestClassifier'}]]"
      ]
     },
     "execution_count": 22,
     "metadata": {},
     "output_type": "execute_result"
    }
   ],
   "source": [
    "rf_spec"
   ]
  },
  {
   "cell_type": "code",
   "execution_count": 24,
   "metadata": {},
   "outputs": [
    {
     "data": {
      "text/plain": [
       "'[[\"feat_ext\", {\"alternate_sign\": false, \"analyzer\": \"char_wb\", \"binary\": false, \"decode_error\": \"strict\", \"encoding\": \"utf-8\", \"input\": \"content\", \"lowercase\": true, \"n_features\": 8192, \"ngram_range\": [7, 7], \"non_negative\": false, \"norm\": \"l2\", \"preprocessor\": null, \"stop_words\": null, \"strip_accents\": null, \"token_pattern\": \"(?u)\\\\\\\\b\\\\\\\\w\\\\\\\\w+\\\\\\\\b\", \"tokenizer\": null, \"__type__\": \"feature_extraction.text.HashingVectorizer\"}], [\"classify\", {\"bootstrap\": true, \"class_weight\": null, \"criterion\": \"gini\", \"max_depth\": null, \"max_features\": \"auto\", \"max_leaf_nodes\": null, \"min_impurity_decrease\": 0.0, \"min_impurity_split\": null, \"min_samples_leaf\": 1, \"min_samples_split\": 2, \"min_weight_fraction_leaf\": 0.0, \"n_estimators\": \"warn\", \"n_jobs\": null, \"oob_score\": false, \"random_state\": null, \"verbose\": 0, \"warm_start\": false, \"__type__\": \"ensemble.forest.RandomForestClassifier\"}]]'"
      ]
     },
     "execution_count": 24,
     "metadata": {},
     "output_type": "execute_result"
    }
   ],
   "source": [
    "json.dumps(rf_spec)"
   ]
  },
  {
   "cell_type": "code",
   "execution_count": null,
   "metadata": {},
   "outputs": [],
   "source": []
  }
 ],
 "metadata": {
  "kernelspec": {
   "display_name": "Python 3",
   "language": "python",
   "name": "python3"
  },
  "language_info": {
   "codemirror_mode": {
    "name": "ipython",
    "version": 3
   },
   "file_extension": ".py",
   "mimetype": "text/x-python",
   "name": "python",
   "nbconvert_exporter": "python",
   "pygments_lexer": "ipython3",
   "version": "3.6.7"
  }
 },
 "nbformat": 4,
 "nbformat_minor": 2
}
