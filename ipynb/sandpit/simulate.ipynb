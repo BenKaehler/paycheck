{
 "cells": [
  {
   "cell_type": "markdown",
   "metadata": {},
   "source": [
    "## Download\n",
    "do not run - takes hours"
   ]
  },
  {
   "cell_type": "code",
   "execution_count": null,
   "metadata": {},
   "outputs": [],
   "source": [
    "%%bash\n",
    "redbiom search metadata 'where sample_type == \"stool\"' > stool_samples\n",
    "redbiom search metadata 'where sample_type == \"Stool\"' >> stool_samples\n",
    "export CTX=Deblur-illumina-16S-v4-150nt-10d7e0\n",
    "redbiom fetch samples --from stool_samples --context $CTX --output stool_sv.biom"
   ]
  },
  {
   "cell_type": "markdown",
   "metadata": {},
   "source": [
    "## Preprocess\n",
    "do not run - takes overnight"
   ]
  },
  {
   "cell_type": "code",
   "execution_count": 3,
   "metadata": {},
   "outputs": [],
   "source": [
    "%%bash\n",
    "qiime tools import --input-path 99_otus.fasta --output-path 99_otus.qza --type FeatureData[Sequence]\n",
    "qiime feature-classifier extract-reads --i-sequences 99_otus.qza --p-f-primer GTGYCAGCMGCCGCGGTAA --p-r-primer GGACTACNVGGGTWTCTAAT --o-reads 99_otus_v4.qza\n",
    "qiime tools export 99_otus_v4.qza --output-dir .\n",
    "mv dna-sequences.fasta 99_otus_v4.fasta\n",
    "biom table-ids --observations -i stool_sv.biom | awk '{print \">\"$1\"blast_rocks\\n\"$1}' > stool_sv.fasta\n",
    "makeblastdb -in 99_otus_v4.fasta -dbtype nucl -out 99_otus_v4.db\n",
    "blastn -num_threads 4 -query stool_sv.fasta -outfmt \"6 qacc sacc\" -db 99_otus_v4.db -max_target_seqs 1 -out stool_sv_map.blast"
   ]
  },
  {
   "cell_type": "markdown",
   "metadata": {},
   "source": [
    "## Simulate"
   ]
  },
  {
   "cell_type": "code",
   "execution_count": 9,
   "metadata": {},
   "outputs": [],
   "source": [
    "import csv\n",
    "import shutil\n",
    "import io\n",
    "\n",
    "import biom\n",
    "from numpy.random import choice\n",
    "import skbio.io"
   ]
  },
  {
   "cell_type": "code",
   "execution_count": 2,
   "metadata": {},
   "outputs": [],
   "source": [
    "stool_sv = biom.load_table('stool_sv.biom')"
   ]
  },
  {
   "cell_type": "code",
   "execution_count": 41,
   "metadata": {},
   "outputs": [],
   "source": [
    "stool_sv_map = {}\n",
    "with open('stool_sv_map.blast') as blast_results:\n",
    "    blast_reader = csv.reader(blast_results, csv.excel_tab)\n",
    "    for row in blast_reader:\n",
    "        assert row[0].endswith('blast_rocks')\n",
    "        sv = row[0][:-len('blast_rocks')]\n",
    "        if sv in stool_sv_map:\n",
    "            assert stool_sv_map[sv] == row[1],\\\n",
    "                ' '.join([sv, stool_sv_map[sv], row[1]])\n",
    "            continue\n",
    "        stool_sv_map[sv] = row[1]"
   ]
  },
  {
   "cell_type": "code",
   "execution_count": 42,
   "metadata": {},
   "outputs": [],
   "source": [
    "ref_seqs = {}\n",
    "with open('99_otus_v4.fasta') as ref_fh:\n",
    "    fasta_reader = skbio.io.read(ref_fh, 'fasta')\n",
    "    for seq in fasta_reader:\n",
    "        ref_seqs[seq.metadata['id']] = str(seq)"
   ]
  },
  {
   "cell_type": "code",
   "execution_count": 48,
   "metadata": {},
   "outputs": [
    {
     "data": {
      "text/plain": [
       "538 x 1 <class 'biom.table.Table'> with 538 nonzero entries (100% dense)"
      ]
     },
     "execution_count": 48,
     "metadata": {},
     "output_type": "execute_result"
    }
   ],
   "source": [
    "random_sample = stool_sv.ids()[choice(stool_sv.length())]\n",
    "random_sample = stool_sv.filter([random_sample], inplace=False)\n",
    "random_sample.filter(lambda v, _, __: v[0] > 1e-9, axis='observation', inplace=True)"
   ]
  },
  {
   "cell_type": "code",
   "execution_count": 53,
   "metadata": {},
   "outputs": [],
   "source": [
    "with open('abundance.fasta', 'w') as a_fh:\n",
    "    for row in random_sample.iter(axis='observation'):\n",
    "        abundance, sv, _ = row\n",
    "        abundance = int(abundance[0])\n",
    "        if sv in stool_sv_map:\n",
    "            a_fh.write('>' + sv + ';size=' + str(abundance) + '\\n')\n",
    "            a_fh.write(ref_seqs[stool_sv_map[sv]] + '\\n')"
   ]
  },
  {
   "cell_type": "code",
   "execution_count": 67,
   "metadata": {},
   "outputs": [
    {
     "name": "stdout",
     "output_type": "stream",
     "text": [
      "\n",
      "    ====================ART====================\n",
      "             ART_Illumina (2008-2016)          \n",
      "          Q Version 2.5.8 (June 6, 2016)       \n",
      "     Contact: Weichun Huang <whduke@gmail.com> \n",
      "    -------------------------------------------\n",
      "\n",
      "              Amplicon 5'-end sequencing simulation\n",
      "\n",
      "Total CPU time used: 3.00006\n",
      "\n",
      "The random seed for the run: 1521606071\n",
      "\n",
      "Parameters used during run\n",
      "\tRead Length:\t150\n",
      "\tGenome masking 'N' cutoff frequency: \t1 in 150\n",
      "\t# Reads per Amplion:       0\n",
      "\tProfile Type:             Combined\n",
      "\tID Tag:                   \n",
      "\n",
      "Quality Profile(s)\n",
      "\tFirst Read:   HiSeq 2500 Length 150 R1 (built-in profile) \n",
      "\n",
      "Output files\n",
      "\n",
      "  FASTQ Sequence File:\n",
      "\tpost_art.fq\n",
      "\n",
      "  ALN Alignment File:\n",
      "\tpost_art.aln\n",
      "\n",
      "  SAM Alignment File:\n",
      "\tpost_art.sam\n",
      "\n",
      "Saved FeatureTable[Frequency] to: simulated.qza\n",
      "Saved FeatureData[Sequence] to: dada2-seqs.qza\n",
      "Saved DeblurStats to: stats.qzv.qza\n"
     ]
    },
    {
     "name": "stderr",
     "output_type": "stream",
     "text": [
      "vsearch v2.5.0_macos_x86_64, 16.0GB RAM, 8 cores\n",
      "https://github.com/torognes/vsearch\n",
      "\n",
      "Rereplicating 100%\n",
      "Rereplicated 35947 reads from 538 amplicons\n"
     ]
    }
   ],
   "source": [
    "%%bash\n",
    "vsearch --rereplicate abundance.fasta --output prior_art.fasta\n",
    "export PATH=$PATH:art_bin_MountRainier\n",
    "art_illumina -ss HS25 -sam -amp -i prior_art.fasta -l 150 -o post_art -c 1\n",
    "cat > post_art.manifest << END\n",
    "sample-id,absolute-filepath,direction\n",
    "sample-1,$PWD/post_art.fq,forward\n",
    "END\n",
    "qiime tools import --input-path post_art.manifest --output-path post_art.qza --type SampleData[SequencesWithQuality] --source-format SingleEndFastqManifestPhred33\n",
    "#qiime dada2 denoise-single --i-demultiplexed-seqs post_art.qza --o-representative-sequences dada2-seqs.qza --o-table simulated.qza --p-trunc-len 0 --p-n-threads 4 --p-no-hashed-feature-ids\n",
    "qiime deblur denoise-16S --i-demultiplexed-seqs post_art.qza --o-representative-sequences dada2-seqs.qza --o-table simulated.qza --p-trim-length -1 --p-sample-stats --o-stats stats.qza --p-jobs-to-start 4 --p-no-hashed-feature-ids"
   ]
  }
 ],
 "metadata": {
  "kernelspec": {
   "display_name": "Python 3",
   "language": "python",
   "name": "python3"
  },
  "language_info": {
   "codemirror_mode": {
    "name": "ipython",
    "version": 3
   },
   "file_extension": ".py",
   "mimetype": "text/x-python",
   "name": "python",
   "nbconvert_exporter": "python",
   "pygments_lexer": "ipython3",
   "version": "3.5.4"
  }
 },
 "nbformat": 4,
 "nbformat_minor": 2
}
