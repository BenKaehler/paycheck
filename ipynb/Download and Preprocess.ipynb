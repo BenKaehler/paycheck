{
 "cells": [
  {
   "cell_type": "markdown",
   "metadata": {},
   "source": [
    "## Extract v4 from Greengenes and build a blast DB"
   ]
  },
  {
   "cell_type": "code",
   "execution_count": 2,
   "metadata": {},
   "outputs": [
    {
     "name": "stdout",
     "output_type": "stream",
     "text": [
      "Saved FeatureData[Sequence] to: /Users/benkaehler/Data/paycheck/ref/99_otus_v4.qza\n",
      "\n",
      "\n",
      "Building a new DB, current time: 04/12/2018 16:05:08\n",
      "New DB name:   /Users/benkaehler/Data/paycheck/ref/99_otus_v4\n",
      "New DB title:  /Users/benkaehler/Data/paycheck/ref/99_otus_v4.fasta\n",
      "Sequence type: Nucleotide\n",
      "Keep MBits: T\n",
      "Maximum file size: 1000000000B\n",
      "Adding sequences from FASTA; added 202814 sequences in 4.43287 seconds.\n"
     ]
    }
   ],
   "source": [
    "%%bash\n",
    "export DATA=~/Data\n",
    "export PAYCHECK_DATA=$DATA/paycheck\n",
    "qiime tools import \\\n",
    "    --input-path $DATA/gg_13_8_otus/rep_set/99_otus.fasta \\\n",
    "    --output-path $PAYCHECK_DATA/ref/99_otus.qza --type FeatureData[Sequence]\n",
    "qiime feature-classifier extract-reads \\\n",
    "    --i-sequences $PAYCHECK_DATA/ref/99_otus.qza \\\n",
    "    --p-f-primer GTGYCAGCMGCCGCGGTAA --p-r-primer GGACTACNVGGGTWTCTAAT \\\n",
    "    --o-reads $PAYCHECK_DATA/ref/99_otus_v4.qza\n",
    "qiime tools export $PAYCHECK_DATA/ref/99_otus_v4.qza --output-dir .\n",
    "mv dna-sequences.fasta $PAYCHECK_DATA/ref/99_otus_v4.fasta\n",
    "makeblastdb -in $PAYCHECK_DATA/ref/99_otus_v4.fasta -dbtype nucl \\\n",
    "    -out $PAYCHECK_DATA/ref/99_otus_v4"
   ]
  },
  {
   "cell_type": "markdown",
   "metadata": {},
   "source": [
    "## Download stool data"
   ]
  },
  {
   "cell_type": "code",
   "execution_count": null,
   "metadata": {},
   "outputs": [],
   "source": [
    "%%bash\n",
    "export RAW_STOOL=$PAYCHECK_DATA/raw/stool\n",
    "export CTX=Deblur-illumina-16S-v4-150nt-10d7e0\n",
    "redbiom search metadata 'where sample_type == \"stool\"' > $RAW_STOOL/samples\n",
    "redbiom search metadata 'where sample_type == \"Stool\"' >> $RAW_STOOL/samples\n",
    "redbiom fetch samples --from $RAW_STOOL/samples --context $CTX --output $RAW_STOOL/sv.biom"
   ]
  },
  {
   "cell_type": "code",
   "execution_count": null,
   "metadata": {},
   "outputs": [],
   "source": [
    "%%bash\n",
    "export PAYCHECK_DATA=~/Data/paycheck\n",
    "export BLAST_DB=$PAYCHECK_DATA/ref/99_otus_v4\n",
    "export REF_STOOL=$PAYCHECK_DATA/ref/stool\n",
    "export RAW_STOOL=$PAYCHECK_DATA/raw/stool\n",
    "biom table-ids --observations -i $RAW_STOOL/sv.biom | awk '{print \">\"$1\"blast_rocks\\n\"$1}' > $REF_STOOL/sv.fasta\n",
    "blastn -num_threads 4 -query $REF_STOOL/sv.fasta -outfmt \"6 qacc sacc\" \\\n",
    "    -db $BLAST_DB -max_target_seqs 1 -out $REF_STOOL/sv_map.blast\n",
    "sed -i '' 's/blast_rocks//' $REF_STOOL/sv_map.blast"
   ]
  },
  {
   "cell_type": "code",
   "execution_count": 18,
   "metadata": {},
   "outputs": [
    {
     "name": "stdout",
     "output_type": "stream",
     "text": [
      "Saved FeatureData[Sequence] to: /Users/benkaehler/Data/paycheck/ref/stool/sv_seqs.qza\n",
      "Saved FeatureData[Taxonomy] to: /Users/benkaehler/Data/paycheck/ref/stool/sv_map.qza\n"
     ]
    }
   ],
   "source": [
    "%%bash\n",
    "export PAYCHECK_DATA=~/Data/paycheck\n",
    "export REF_STOOL=$PAYCHECK_DATA/ref/stool\n",
    "export RAW_STOOL=$PAYCHECK_DATA/raw/stool\n",
    "qiime tools import --type FeatureTable[Frequency] --input-path $RAW_STOOL/sv.biom --output-path $REF_STOOL/sv.qza\n",
    "qiime clawback sequence-variants-from-feature-table --i-table $REF_STOOL/sv.qza --o-sequences $REF_STOOL/sv_seqs.qza\n",
    "qiime feature-classifier classify-sklearn --i-reads $REF_STOOL/sv_seqs.qza \\\n",
    "    --i-classifier $PAYCHECK_DATA/ref/gg-13-8-99-515-806-nb-classifier.qza \\\n",
    "    --o-classification $REF_STOOL/sv_map.qza --p-confidence -1"
   ]
  },
  {
   "cell_type": "markdown",
   "metadata": {},
   "source": [
    "## Download soil data"
   ]
  },
  {
   "cell_type": "code",
   "execution_count": 2,
   "metadata": {},
   "outputs": [],
   "source": [
    "%%bash\n",
    "export RAW_SOIL=~/Data/paycheck/raw/soil\n",
    "export CTX=Deblur-illumina-16S-v4-150nt-10d7e0\n",
    "redbiom search metadata 'where sample_type in (\"soil\", \"Soil\")' > $RAW_SOIL/samples\n",
    "redbiom fetch samples --from $RAW_SOIL/samples --context $CTX --output $RAW_SOIL/sv.biom"
   ]
  },
  {
   "cell_type": "code",
   "execution_count": 7,
   "metadata": {},
   "outputs": [],
   "source": [
    "%%bash\n",
    "export PAYCHECK_DATA=~/Data/paycheck\n",
    "export BLAST_DB=$PAYCHECK_DATA/ref/99_otus_v4\n",
    "export REF_SOIL=$PAYCHECK_DATA/ref/soil\n",
    "export RAW_SOIL=$PAYCHECK_DATA/raw/soil\n",
    "biom table-ids --observations -i $RAW_SOIL/sv.biom | awk '{print \">\"$1\"blast_rocks\\n\"$1}' > $REF_SOIL/sv.fasta\n",
    "blastn -num_threads 4 -query $REF_SOIL/sv.fasta -outfmt \"6 qacc sacc\" \\\n",
    "    -db $BLAST_DB -max_target_seqs 1 -out $REF_SOIL/sv_map.blast\n",
    "sed -i '' 's/blast_rocks//' $REF_SOIL/sv_map.blast"
   ]
  },
  {
   "cell_type": "code",
   "execution_count": 1,
   "metadata": {},
   "outputs": [
    {
     "name": "stderr",
     "output_type": "stream",
     "text": [
      "Error: no such option: --table\n",
      "Usage: qiime feature-classifier classify-sklearn [OPTIONS]\n",
      "\n",
      "Error: Invalid value for \"--i-reads\": Path \"/Users/benkaehler/Data/paycheck/ref/soil/sv_seqs.qza\" does not exist.\n"
     ]
    }
   ],
   "source": [
    "%%bash\n",
    "export PAYCHECK_DATA=~/Data/paycheck\n",
    "export REF_SOIL=$PAYCHECK_DATA/ref/soil\n",
    "export RAW_SOIL=$PAYCHECK_DATA/raw/soil\n",
    "qiime tools import --type FeatureTable[Frequency] --input-path $RAW_SOIL/sv.biom --output-path $REF_SOIL/sv.qza\n",
    "qiime clawback sequence-variants-from-feature-table --i-table $REF_SOIL/sv.qza --o-sequences $REF_SOIL/sv_seqs.qza\n",
    "qiime feature-classifier classify-sklearn --i-reads $REF_SOIL/sv_seqs.qza \\\n",
    "    --i-classifier $PAYCHECK_DATA/ref/gg-13-8-99-515-806-nb-classifier.qza \\\n",
    "    --o-classification $REF_SOIL/sv_map.qza --p-confidence -1"
   ]
  },
  {
   "cell_type": "code",
   "execution_count": null,
   "metadata": {},
   "outputs": [],
   "source": []
  }
 ],
 "metadata": {
  "kernelspec": {
   "display_name": "Python 3",
   "language": "python",
   "name": "python3"
  },
  "language_info": {
   "codemirror_mode": {
    "name": "ipython",
    "version": 3
   },
   "file_extension": ".py",
   "mimetype": "text/x-python",
   "name": "python",
   "nbconvert_exporter": "python",
   "pygments_lexer": "ipython3",
   "version": "3.5.5"
  }
 },
 "nbformat": 4,
 "nbformat_minor": 2
}
