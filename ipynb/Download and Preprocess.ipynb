{
 "cells": [
  {
   "cell_type": "markdown",
   "metadata": {},
   "source": [
    "## Extract v4 from Greengenes and build a blast DB"
   ]
  },
  {
   "cell_type": "code",
   "execution_count": 2,
   "metadata": {},
   "outputs": [
    {
     "name": "stdout",
     "output_type": "stream",
     "text": [
      "Saved FeatureData[Sequence] to: /Users/benkaehler/Data/paycheck/ref/99_otus_v4.qza\n",
      "\n",
      "\n",
      "Building a new DB, current time: 04/12/2018 16:05:08\n",
      "New DB name:   /Users/benkaehler/Data/paycheck/ref/99_otus_v4\n",
      "New DB title:  /Users/benkaehler/Data/paycheck/ref/99_otus_v4.fasta\n",
      "Sequence type: Nucleotide\n",
      "Keep MBits: T\n",
      "Maximum file size: 1000000000B\n",
      "Adding sequences from FASTA; added 202814 sequences in 4.43287 seconds.\n"
     ]
    }
   ],
   "source": [
    "%%bash\n",
    "export DATA=~/Data\n",
    "export PAYCHECK_DATA=$DATA/paycheck\n",
    "qiime tools import \\\n",
    "    --input-path $DATA/gg_13_8_otus/rep_set/99_otus.fasta \\\n",
    "    --output-path $PAYCHECK_DATA/ref/99_otus.qza --type FeatureData[Sequence]\n",
    "qiime feature-classifier extract-reads \\\n",
    "    --i-sequences $PAYCHECK_DATA/ref/99_otus.qza \\\n",
    "    --p-f-primer GTGYCAGCMGCCGCGGTAA --p-r-primer GGACTACNVGGGTWTCTAAT \\\n",
    "    --o-reads $PAYCHECK_DATA/ref/99_otus_v4.qza\n",
    "qiime tools export $PAYCHECK_DATA/ref/99_otus_v4.qza --output-dir .\n",
    "mv dna-sequences.fasta $PAYCHECK_DATA/ref/99_otus_v4.fasta\n",
    "makeblastdb -in $PAYCHECK_DATA/ref/99_otus_v4.fasta -dbtype nucl \\\n",
    "    -out $PAYCHECK_DATA/ref/99_otus_v4"
   ]
  },
  {
   "cell_type": "markdown",
   "metadata": {},
   "source": [
    "## Download stool data"
   ]
  },
  {
   "cell_type": "code",
   "execution_count": null,
   "metadata": {},
   "outputs": [],
   "source": [
    "%%bash\n",
    "export RAW_STOOL=$PAYCHECK_DATA/raw/stool\n",
    "export CTX=Deblur-illumina-16S-v4-150nt-10d7e0\n",
    "redbiom search metadata 'where sample_type == \"stool\"' > $RAW_STOOL/samples\n",
    "redbiom search metadata 'where sample_type == \"Stool\"' >> $RAW_STOOL/samples\n",
    "redbiom fetch samples --from $RAW_STOOL/samples --context $CTX --output $RAW_STOOL/sv.biom"
   ]
  },
  {
   "cell_type": "code",
   "execution_count": null,
   "metadata": {},
   "outputs": [],
   "source": [
    "%%bash\n",
    "export PAYCHECK_DATA=~/Data/paycheck\n",
    "export BLAST_DB=$PAYCHECK_DATA/ref/99_otus_v4\n",
    "export REF_STOOL=$PAYCHECK_DATA/ref/stool\n",
    "export RAW_STOOL=$PAYCHECK_DATA/raw/stool\n",
    "biom table-ids --observations -i $RAW_STOOL/sv.biom | awk '{print \">\"$1\"blast_rocks\\n\"$1}' > $REF_STOOL/sv.fasta\n",
    "blastn -num_threads 4 -query $REF_STOOL/sv.fasta -outfmt \"6 qacc sacc\" \\\n",
    "    -db $BLAST_DB -max_target_seqs 1 -out $REF_STOOL/sv_map.blast\n",
    "sed -i '' 's/blast_rocks//' $REF_STOOL/sv_map.blast"
   ]
  },
  {
   "cell_type": "code",
   "execution_count": 18,
   "metadata": {},
   "outputs": [
    {
     "name": "stdout",
     "output_type": "stream",
     "text": [
      "Saved FeatureData[Sequence] to: /Users/benkaehler/Data/paycheck/ref/stool/sv_seqs.qza\n",
      "Saved FeatureData[Taxonomy] to: /Users/benkaehler/Data/paycheck/ref/stool/sv_map.qza\n"
     ]
    }
   ],
   "source": [
    "%%bash\n",
    "export PAYCHECK_DATA=~/Data/paycheck\n",
    "export REF_STOOL=$PAYCHECK_DATA/ref/stool\n",
    "export RAW_STOOL=$PAYCHECK_DATA/raw/stool\n",
    "qiime tools import --type FeatureTable[Frequency] --input-path $RAW_STOOL/sv.biom --output-path $REF_STOOL/sv.qza\n",
    "qiime clawback sequence-variants-from-feature-table --i-table $REF_STOOL/sv.qza --o-sequences $REF_STOOL/sv_seqs.qza\n",
    "qiime feature-classifier classify-sklearn --i-reads $REF_STOOL/sv_seqs.qza \\\n",
    "    --i-classifier $PAYCHECK_DATA/ref/gg-13-8-99-515-806-nb-classifier.qza \\\n",
    "    --o-classification $REF_STOOL/sv_map.qza --p-confidence -1"
   ]
  },
  {
   "cell_type": "markdown",
   "metadata": {},
   "source": [
    "## Download soil data"
   ]
  },
  {
   "cell_type": "code",
   "execution_count": 2,
   "metadata": {},
   "outputs": [],
   "source": [
    "%%bash\n",
    "export RAW_SOIL=~/Data/paycheck/raw/soil\n",
    "export CTX=Deblur-illumina-16S-v4-150nt-10d7e0\n",
    "redbiom search metadata 'where sample_type in (\"soil\", \"Soil\")' > $RAW_SOIL/samples\n",
    "redbiom fetch samples --from $RAW_SOIL/samples --context $CTX --output $RAW_SOIL/sv.biom"
   ]
  },
  {
   "cell_type": "code",
   "execution_count": 7,
   "metadata": {},
   "outputs": [],
   "source": [
    "%%bash\n",
    "export PAYCHECK_DATA=~/Data/paycheck\n",
    "export BLAST_DB=$PAYCHECK_DATA/ref/99_otus_v4\n",
    "export REF_SOIL=$PAYCHECK_DATA/ref/soil\n",
    "export RAW_SOIL=$PAYCHECK_DATA/raw/soil\n",
    "biom table-ids --observations -i $RAW_SOIL/sv.biom | awk '{print \">\"$1\"blast_rocks\\n\"$1}' > $REF_SOIL/sv.fasta\n",
    "blastn -num_threads 4 -query $REF_SOIL/sv.fasta -outfmt \"6 qacc sacc\" \\\n",
    "    -db $BLAST_DB -max_target_seqs 1 -out $REF_SOIL/sv_map.blast\n",
    "sed -i '' 's/blast_rocks//' $REF_SOIL/sv_map.blast"
   ]
  },
  {
   "cell_type": "code",
   "execution_count": 1,
   "metadata": {},
   "outputs": [
    {
     "name": "stderr",
     "output_type": "stream",
     "text": [
      "Error: no such option: --table\n",
      "Usage: qiime feature-classifier classify-sklearn [OPTIONS]\n",
      "\n",
      "Error: Invalid value for \"--i-reads\": Path \"/Users/benkaehler/Data/paycheck/ref/soil/sv_seqs.qza\" does not exist.\n"
     ]
    }
   ],
   "source": [
    "%%bash\n",
    "export PAYCHECK_DATA=~/Data/paycheck\n",
    "export REF_SOIL=$PAYCHECK_DATA/ref/soil\n",
    "export RAW_SOIL=$PAYCHECK_DATA/raw/soil\n",
    "qiime tools import --type FeatureTable[Frequency] --input-path $RAW_SOIL/sv.biom --output-path $REF_SOIL/sv.qza\n",
    "qiime clawback sequence-variants-from-feature-table --i-table $REF_SOIL/sv.qza --o-sequences $REF_SOIL/sv_seqs.qza\n",
    "qiime feature-classifier classify-sklearn --i-reads $REF_SOIL/sv_seqs.qza \\\n",
    "    --i-classifier $PAYCHECK_DATA/ref/gg-13-8-99-515-806-nb-classifier.qza \\\n",
    "    --o-classification $REF_SOIL/sv_map.qza --p-confidence -1"
   ]
  },
  {
   "cell_type": "markdown",
   "metadata": {},
   "source": [
    "### Download tear data"
   ]
  },
  {
   "cell_type": "code",
   "execution_count": 21,
   "metadata": {},
   "outputs": [
    {
     "name": "stdout",
     "output_type": "stream",
     "text": [
      "Saved FeatureData[Sequence] to: /Users/benkaehler/Data/paycheck/ref/tears/sv_seqs.qza\n",
      "Saved FeatureData[Taxonomy] to: /Users/benkaehler/Data/paycheck/ref/tears/sv_map.qza\n"
     ]
    }
   ],
   "source": [
    "%%bash\n",
    "export CTX=Deblur-illumina-16S-v4-150nt-10d7e0\n",
    "export PAYCHECK_DATA=~/Data/paycheck\n",
    "export REF=$PAYCHECK_DATA/ref\n",
    "export BLAST_DB=$PAYCHECK_DATA/ref/99_otus_v4\n",
    "export REF_TEARS=$PAYCHECK_DATA/ref/tears\n",
    "export RAW_TEARS=$PAYCHECK_DATA/raw/tears\n",
    "export TEARS=$PAYCHECK_DATA/tears\n",
    "redbiom search metadata 'where sample_type in (\"Tears\",)' > $RAW_TEARS/samples\n",
    "redbiom fetch samples --from $RAW_TEARS/samples --context $CTX --output $RAW_TEARS/sv.biom\n",
    "biom table-ids --observations -i $RAW_TEARS/sv.biom | awk '{print \">\"$1\"blast_rocks\\n\"$1}' > $REF_TEARS/sv.fasta\n",
    "blastn -num_threads 4 -query $REF_TEARS/sv.fasta -outfmt \"6 qacc sacc\" \\\n",
    "    -db $BLAST_DB -max_target_seqs 1 -out $REF_TEARS/sv_map.blast\n",
    "sed -i '' 's/blast_rocks//' $REF_TEARS/sv_map.blast\n",
    "qiime tools import --type FeatureTable[Frequency] --input-path $RAW_TEARS/sv.biom --output-path $REF_TEARS/sv.qza\n",
    "qiime clawback sequence-variants-from-feature-table --i-table $REF_TEARS/sv.qza --o-sequences $REF_TEARS/sv_seqs.qza\n",
    "qiime feature-classifier classify-sklearn --i-reads $REF_TEARS/sv_seqs.qza \\\n",
    "    --i-classifier $PAYCHECK_DATA/ref/gg-13-8-99-515-806-nb-classifier.qza \\\n",
    "    --o-classification $REF_TEARS/sv_map.qza --p-confidence -1\n",
    "qiime clawback generate-class-weights --i-reference-taxonomy $REF/99_tax.qza \\\n",
    "    --i-reference-sequences $REF/99_otus_v4.qza \\\n",
    "    --i-samples $REF_TEARS/sv.qza \\\n",
    "    --i-taxonomy-classification $REF_TEARS/sv_map.qza \\\n",
    "    --o-class-weight $TEARS/weights/weights-normalise-False-unobserved-weight-1e-06.qza"
   ]
  },
  {
   "cell_type": "code",
   "execution_count": 31,
   "metadata": {},
   "outputs": [
    {
     "name": "stdout",
     "output_type": "stream",
     "text": [
      "Saved FeatureTable[Frequency] to: /Users/benkaehler/Data/paycheck/ref/tears_cb/sv.qza\n",
      "Saved FeatureData[Sequence] to: /Users/benkaehler/Data/paycheck/ref/tears_cb/sv_seqs.qza\n",
      "Saved FeatureData[Taxonomy] to: /Users/benkaehler/Data/paycheck/ref/tears_cb/sv_map.qza\n",
      "Saved FeatureTable[RelativeFrequency] to: /Users/benkaehler/Data/paycheck/tears_cb/weights/weights-normalise-False-unobserved-weight-1e-06.qza\n"
     ]
    }
   ],
   "source": [
    "%%bash\n",
    "export CTX=Deblur-illumina-16S-v4-150nt-10d7e0\n",
    "export PAYCHECK_DATA=~/Data/paycheck\n",
    "export REF=$PAYCHECK_DATA/ref\n",
    "export REF_TEARS=$PAYCHECK_DATA/ref/tears_cb\n",
    "export RAW_TEARS=$PAYCHECK_DATA/raw/tears_cb\n",
    "export TEARS=$PAYCHECK_DATA/tears_cb\n",
    "qiime clawback fetch-QIITA-samples --p-sample-type Tears --p-context $CTX --o-samples $REF_TEARS/sv.qza\n",
    "qiime clawback sequence-variants-from-samples --i-samples $REF_TEARS/sv.qza --o-sequences $REF_TEARS/sv_seqs.qza\n",
    "qiime feature-classifier classify-sklearn --i-reads $REF_TEARS/sv_seqs.qza \\\n",
    "    --i-classifier $PAYCHECK_DATA/ref/gg-13-8-99-515-806-nb-classifier.qza \\\n",
    "    --o-classification $REF_TEARS/sv_map.qza --p-confidence -1\n",
    "qiime clawback generate-class-weights --i-reference-taxonomy $REF/99_tax.qza \\\n",
    "    --i-reference-sequences $REF/99_otus_v4.qza \\\n",
    "    --i-samples $REF_TEARS/sv.qza \\\n",
    "    --i-taxonomy-classification $REF_TEARS/sv_map.qza \\\n",
    "    --o-class-weight $TEARS/weights/weights-normalise-False-unobserved-weight-1e-06.qza"
   ]
  },
  {
   "cell_type": "markdown",
   "metadata": {},
   "source": [
    "### Download vaginal data"
   ]
  },
  {
   "cell_type": "code",
   "execution_count": 32,
   "metadata": {},
   "outputs": [
    {
     "name": "stdout",
     "output_type": "stream",
     "text": [
      "Saved FeatureTable[Frequency] to: /Users/benkaehler/Data/paycheck/ref/vaginal/sv.qza\n",
      "Saved FeatureData[Sequence] to: /Users/benkaehler/Data/paycheck/ref/vaginal/sv_seqs.qza\n",
      "Saved FeatureData[Taxonomy] to: /Users/benkaehler/Data/paycheck/ref/vaginal/sv_map.qza\n"
     ]
    },
    {
     "name": "stderr",
     "output_type": "stream",
     "text": [
      "Traceback (most recent call last):\n",
      "  File \"/Users/benkaehler/miniconda3/envs/qiime2-2018.2/bin/qiime\", line 11, in <module>\n",
      "    sys.exit(qiime())\n",
      "  File \"/Users/benkaehler/miniconda3/envs/qiime2-2018.2/lib/python3.5/site-packages/click/core.py\", line 722, in __call__\n",
      "    return self.main(*args, **kwargs)\n",
      "  File \"/Users/benkaehler/miniconda3/envs/qiime2-2018.2/lib/python3.5/site-packages/click/core.py\", line 697, in main\n",
      "    rv = self.invoke(ctx)\n",
      "  File \"/Users/benkaehler/miniconda3/envs/qiime2-2018.2/lib/python3.5/site-packages/click/core.py\", line 1066, in invoke\n",
      "    return _process_result(sub_ctx.command.invoke(sub_ctx))\n",
      "  File \"/Users/benkaehler/miniconda3/envs/qiime2-2018.2/lib/python3.5/site-packages/click/core.py\", line 1066, in invoke\n",
      "    return _process_result(sub_ctx.command.invoke(sub_ctx))\n",
      "  File \"/Users/benkaehler/miniconda3/envs/qiime2-2018.2/lib/python3.5/site-packages/click/core.py\", line 895, in invoke\n",
      "    return ctx.invoke(self.callback, **ctx.params)\n",
      "  File \"/Users/benkaehler/miniconda3/envs/qiime2-2018.2/lib/python3.5/site-packages/click/core.py\", line 535, in invoke\n",
      "    return callback(*args, **kwargs)\n",
      "  File \"/Users/benkaehler/miniconda3/envs/qiime2-2018.2/lib/python3.5/site-packages/q2cli/commands.py\", line 263, in __call__\n",
      "    path = result.save(output)\n",
      "  File \"/Users/benkaehler/miniconda3/envs/qiime2-2018.2/lib/python3.5/site-packages/qiime2/sdk/result.py\", line 143, in save\n",
      "    self._archiver.save(filepath)\n",
      "  File \"/Users/benkaehler/miniconda3/envs/qiime2-2018.2/lib/python3.5/site-packages/qiime2/core/archive/archiver.py\", line 341, in save\n",
      "    self.CURRENT_ARCHIVE.save(self.path, filepath)\n",
      "  File \"/Users/benkaehler/miniconda3/envs/qiime2-2018.2/lib/python3.5/site-packages/qiime2/core/archive/archiver.py\", line 161, in save\n",
      "    allowZip64=True) as zf:\n",
      "  File \"/Users/benkaehler/miniconda3/envs/qiime2-2018.2/lib/python3.5/zipfile.py\", line 1009, in __init__\n",
      "    self.fp = io.open(file, filemode)\n",
      "FileNotFoundError: [Errno 2] No such file or directory: '/Users/benkaehler/Data/paycheck/vaginal/weights/weights-normalise-False-unobserved-weight-1e-06.qza'\n",
      "Usage: biom table-ids [OPTIONS]\n",
      "\n",
      "Error: Invalid value for \"-i\" / \"--input-fp\": Path \"/Users/benkaehler/Data/paycheck/raw/vaginal/sv.biom\" does not exist.\n",
      "USAGE\n",
      "  blastn [-h] [-help] [-import_search_strategy filename]\n",
      "    [-export_search_strategy filename] [-task task_name] [-db database_name]\n",
      "    [-dbsize num_letters] [-gilist filename] [-seqidlist filename]\n",
      "    [-negative_gilist filename] [-entrez_query entrez_query]\n",
      "    [-db_soft_mask filtering_algorithm] [-db_hard_mask filtering_algorithm]\n",
      "    [-subject subject_input_file] [-subject_loc range] [-query input_file]\n",
      "    [-out output_file] [-evalue evalue] [-word_size int_value]\n",
      "    [-gapopen open_penalty] [-gapextend extend_penalty]\n",
      "    [-perc_identity float_value] [-qcov_hsp_perc float_value]\n",
      "    [-max_hsps int_value] [-xdrop_ungap float_value] [-xdrop_gap float_value]\n",
      "    [-xdrop_gap_final float_value] [-searchsp int_value]\n",
      "    [-sum_stats bool_value] [-penalty penalty] [-reward reward] [-no_greedy]\n",
      "    [-min_raw_gapped_score int_value] [-template_type type]\n",
      "    [-template_length int_value] [-dust DUST_options]\n",
      "    [-filtering_db filtering_database]\n",
      "    [-window_masker_taxid window_masker_taxid]\n",
      "    [-window_masker_db window_masker_db] [-soft_masking soft_masking]\n",
      "    [-ungapped] [-culling_limit int_value] [-best_hit_overhang float_value]\n",
      "    [-best_hit_score_edge float_value] [-window_size int_value]\n",
      "    [-off_diagonal_range int_value] [-use_index boolean] [-index_name string]\n",
      "    [-lcase_masking] [-query_loc range] [-strand strand] [-parse_deflines]\n",
      "    [-outfmt format] [-show_gis] [-num_descriptions int_value]\n",
      "    [-num_alignments int_value] [-line_length line_length] [-html]\n",
      "    [-max_target_seqs num_sequences] [-num_threads int_value] [-remote]\n",
      "    [-version]\n",
      "\n",
      "DESCRIPTION\n",
      "   Nucleotide-Nucleotide BLAST 2.6.0+\n",
      "\n",
      "Use '-help' to print detailed descriptions of command line arguments\n",
      "========================================================================\n",
      "\n",
      "Error: Too many positional arguments (1), the offending value: 1\n",
      "Error:  (CArgException::eSynopsis) Too many positional arguments (1), the offending value: 1\n",
      "sed: /Users/benkaehler/Data/paycheck/ref/vaginal/sv_map.blast: No such file or directory\n"
     ]
    }
   ],
   "source": [
    "%%bash\n",
    "export CTX=Deblur-illumina-16S-v4-150nt-10d7e0\n",
    "export PAYCHECK_DATA=~/Data/paycheck\n",
    "export BLAST_DB=$PAYCHECK_DATA/ref/99_otus_v4\n",
    "export REF=$PAYCHECK_DATA/ref\n",
    "export REF_VAGINAL=$PAYCHECK_DATA/ref/vaginal\n",
    "export RAW_VAGINAL=$PAYCHECK_DATA/raw/vaginal\n",
    "export VAGINAL=$PAYCHECK_DATA/vaginal\n",
    "qiime clawback fetch-QIITA-samples --p-sample-type vaginal --p-context $CTX --o-samples $REF_VAGINAL/sv.qza\n",
    "qiime clawback sequence-variants-from-samples --i-samples $REF_VAGINAL/sv.qza --o-sequences $REF_VAGINAL/sv_seqs.qza\n",
    "qiime feature-classifier classify-sklearn --i-reads $REF_VAGINAL/sv_seqs.qza \\\n",
    "    --i-classifier $PAYCHECK_DATA/ref/gg-13-8-99-515-806-nb-classifier.qza \\\n",
    "    --o-classification $REF_VAGINAL/sv_map.qza --p-confidence -1\n",
    "qiime clawback generate-class-weights --i-reference-taxonomy $REF/99_tax.qza \\\n",
    "    --i-reference-sequences $REF/99_otus_v4.qza \\\n",
    "    --i-samples $REF_VAGINAL/sv.qza \\\n",
    "    --i-taxonomy-classification $REF_VAGINAL/sv_map.qza \\\n",
    "    --o-class-weight $VAGINAL/weights/weights-normalise-False-unobserved-weight-1e-06.qza\n",
    "\n",
    "qiime tools export --output-dir $REF_VAGINAL $REF_VAGINAL/sv.qza\n",
    "mv $REF_VAGINAL/feature-table.biom $REF_VAGINAL/sv.biom\n",
    "biom table-ids --observations -i $RAW_VAGINAL/sv.biom | awk '{print \">\"$1\"blast_rocks\\n\"$1}' > $REF_VAGINAL/sv.fasta\n",
    "blastn -num_threads 4 -query $REF_VAGINAL/sv.fasta -outfmt \"6 qacc sacc\" \\\n",
    "    -db $BLAST_DB -max_target_seqs 1 -out $REF_VAGINAL/sv_map.blast\n",
    "sed -i '' 's/blast_rocks//' $REF_VAGINAL/sv_map.blast"
   ]
  },
  {
   "cell_type": "code",
   "execution_count": 36,
   "metadata": {},
   "outputs": [],
   "source": [
    "%%bash\n",
    "export CTX=Deblur-illumina-16S-v4-150nt-10d7e0\n",
    "export PAYCHECK_DATA=~/Data/paycheck\n",
    "export REF=$PAYCHECK_DATA/ref\n",
    "export REF_VAGINAL=$PAYCHECK_DATA/ref/vaginal\n",
    "export RAW_VAGINAL=$PAYCHECK_DATA/raw/vaginal\n",
    "export VAGINAL=$PAYCHECK_DATA/vaginal\n",
    "export BLAST_DB=$PAYCHECK_DATA/ref/99_otus_v4\n",
    "\n",
    "blastn -num_threads 4 -query $REF_VAGINAL/sv.fasta -outfmt \"6 qacc sacc\" \\\n",
    "    -db $BLAST_DB -max_target_seqs 1 -out $REF_VAGINAL/sv_map.blast\n",
    "sed -i '' 's/blast_rocks//' $REF_VAGINAL/sv_map.blast"
   ]
  },
  {
   "cell_type": "markdown",
   "metadata": {},
   "source": [
    "### Download empo_3 data"
   ]
  },
  {
   "cell_type": "code",
   "execution_count": null,
   "metadata": {},
   "outputs": [],
   "source": [
    "%%bash\n",
    "export CTX=Deblur-NA-illumina-16S-v4-100nt-fbc5b2\n"
   ]
  }
 ],
 "metadata": {
  "kernelspec": {
   "display_name": "Python 3",
   "language": "python",
   "name": "python3"
  },
  "language_info": {
   "codemirror_mode": {
    "name": "ipython",
    "version": 3
   },
   "file_extension": ".py",
   "mimetype": "text/x-python",
   "name": "python",
   "nbconvert_exporter": "python",
   "pygments_lexer": "ipython3",
   "version": "3.5.5"
  }
 },
 "nbformat": 4,
 "nbformat_minor": 2
}
