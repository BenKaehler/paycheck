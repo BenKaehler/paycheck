{
 "cells": [
  {
   "cell_type": "markdown",
   "metadata": {},
   "source": [
    "# Random Forest classifier evaluation\n",
    "This notebook can be used to evaluate performance of different variants of a Random Forest classifier (or any other sklearn classifier). In order to run run it you must have:\n",
    "- trained some new classifiers that you want to evaluate\n",
    "- run the paycheck cross-validation on all of those\n",
    "- stored the results of all cross-validations in one directory (specified below)\n",
    "\n",
    "In terms of code execution, you should have run:\n",
    "- `paycheck_generate_folds` to prepare the train/test datasets used in the next step (for a _k_ number of folds)\n",
    "- `paycheck_cv_classifier` to cross-validate the classifiers _k_-times (exact specs for every classifier can be passed as an argument to that method)\n",
    "\n",
    "Following the cross-validation step, you should end up with a directory structure similar to this:\n",
    "```\n",
    "project_dir/\n",
    "  |\n",
    "  +--sample-type-1/\n",
    "  |   |\n",
    "  |   +--results/\n",
    "  |   |   |\n",
    "  |   |   +--abundance/\n",
    "  |   |   +--expected/\n",
    "  |   |   +--relative_frequencies/\n",
    "  |   |   +--RandomForest/\n",
    "  |   |       |\n",
    "  |   |       +--class-weights-1/\n",
    "  |   |       +--class-weights-2/\n",
    "  |   |       +--class-weights-3/\n",
    "  |   +--tmp/\n",
    "  |       |\n",
    "  |       +--fold-0/\n",
    "  |       +--fold-1/\n",
    "  |       +--fold-k/\n",
    "  +--sample-type-2/\n",
    "```\n",
    "where `sample-type-1/2` is the type of the sample on which you want to perform the analysis (e.g. sediment-non-saline) and `class-weights-1/2/3` indicates your specifc classifiers that should be evaluated. You should indicate the correct `project_dir` and `sample_type` in the cells below. Paths to `class-weights` should be discovered automatically, given the directory structure above (that means you'll probably need to move some files around)."
   ]
  },
  {
   "cell_type": "markdown",
   "metadata": {},
   "source": [
    "## Imports and required function definitions"
   ]
  },
  {
   "cell_type": "code",
   "execution_count": 1,
   "metadata": {},
   "outputs": [],
   "source": [
    "import os\n",
    "\n",
    "from joblib import Parallel, delayed\n",
    "import qiime2\n",
    "import biom\n",
    "import numpy as np\n",
    "import pandas as pd\n",
    "import seaborn as sns\n",
    "from qiime2.plugins import feature_table\n",
    "from qiime2.plugins import taxa\n",
    "import matplotlib.pyplot as plt\n",
    "\n",
    "from glob import glob\n",
    "import json\n",
    "\n",
    "from q2_quality_control._evaluate_taxonomy import _evaluate_taxonomy\n",
    "from q2_quality_control._utilities import (\n",
    "    _evaluate_composition, _compute_per_level_accuracy, _match_samples_by_index, _drop_nans_zeros)\n",
    "\n",
    "%matplotlib inline"
   ]
  },
  {
   "cell_type": "code",
   "execution_count": 2,
   "metadata": {},
   "outputs": [],
   "source": [
    "def _calc_prf(exp_taxa, obs_taxa, table):\n",
    "    # calculate weighted PRF\n",
    "    prf = _evaluate_taxonomy(\n",
    "        exp_taxa=exp_taxa,\n",
    "        obs_taxa=obs_taxa,\n",
    "        require_exp_ids=True,\n",
    "        require_obs_ids=True,\n",
    "        feature_table=table,\n",
    "        sample_id=None)\n",
    "    prf['method'] = 'weighted'\n",
    "    prf_results = prf\n",
    "\n",
    "    # calculate unweighted PRF\n",
    "    prf = _evaluate_taxonomy(\n",
    "        exp_taxa=exp_taxa,\n",
    "        obs_taxa=obs_taxa,\n",
    "        require_exp_ids=True,\n",
    "        require_obs_ids=True,\n",
    "        feature_table=None,\n",
    "        sample_id=None)\n",
    "    prf['method'] = 'unweighted'\n",
    "    prf_results = pd.concat([prf_results, prf])\n",
    "    \n",
    "    return prf_results\n",
    "\n",
    "\n",
    "def _collapse_frequency_table_to_relative_frequency(table, taxonomy, level=7):\n",
    "    for level in range(level, 0, -1):\n",
    "        # to cater for truncated classifications\n",
    "        try:\n",
    "            table_l7 = taxa.methods.collapse(table=table, level=level, taxonomy=taxonomy)\n",
    "            break\n",
    "        except ValueError:\n",
    "            pass\n",
    "    rel_freq = feature_table.methods.relative_frequency(table_l7.collapsed_table)\n",
    "    obs_table = rel_freq.relative_frequency_table.view(pd.DataFrame)\n",
    "    return obs_table\n",
    "\n",
    "\n",
    "def _eval_comp_basic(exp, obs, depth=7):\n",
    "    exp, obs = _match_samples_by_index(exp, obs)\n",
    "\n",
    "    # DROP NANS/ZERO ABUNDANCE FEATURES\n",
    "    obs = _drop_nans_zeros(obs)\n",
    "    exp = _drop_nans_zeros(exp)\n",
    "\n",
    "    for depth in range(depth, 0, -1):\n",
    "        # TAR/TDR for obs vs. exp at each level\n",
    "        try:\n",
    "            results, vectors = _compute_per_level_accuracy(exp, obs, metadata=None, depth=depth)\n",
    "            break\n",
    "        except ValueError:\n",
    "            pass\n",
    "    return results\n",
    "\n",
    "\n",
    "def _table_to_relative_freq(frequencies_dir, fn, rel_freq_fp):\n",
    "    table_fp = os.path.join(frequencies_dir, fn)\n",
    "    table = qiime2.Artifact.load(table_fp)\n",
    "    rel_freq = feature_table.methods.relative_frequency(table)\n",
    "    rel_freq.relative_frequency_table.save(rel_freq_fp)\n",
    "    table = rel_freq.relative_frequency_table.view(biom.Table)\n",
    "    return table\n",
    "\n",
    "\n",
    "def _eval_for_class_weights(\n",
    "    cw, type_dir, expected_dir, fns, frequencies_dir, relative_frequencies_dir):\n",
    "    prf_results = pd.DataFrame()\n",
    "    eval_results = pd.DataFrame()\n",
    "    if cw == sample_type:\n",
    "        return prf_results, eval_results\n",
    "\n",
    "    cw_dir = os.path.join(type_dir, cw)\n",
    "    # evaluate taxonomy\n",
    "    for fn in fns:\n",
    "        if fn in ['log', 'log_missed']:\n",
    "            continue\n",
    "        sample, _ = os.path.splitext(fn)\n",
    "\n",
    "        # convert table to relative frequencies\n",
    "        rel_freq_fp = os.path.join(relative_frequencies_dir, fn)\n",
    "        if not os.path.exists(rel_freq_fp):\n",
    "            table = _table_to_relative_freq(frequencies_dir, fn, rel_freq_fp)\n",
    "        else:\n",
    "            try:\n",
    "                table = qiime2.Artifact.load(rel_freq_fp).view(biom.Table)\n",
    "            except Exception as e:\n",
    "                print(\n",
    "                    f\"An exception has occurred: {e}. Will try to recreate artifact.\"\n",
    "                )\n",
    "                table = _table_to_relative_freq(frequencies_dir, fn, rel_freq_fp)\n",
    "\n",
    "        # load data\n",
    "        exp_taxa_fp = os.path.join(expected_dir, fn)\n",
    "        exp_taxa = qiime2.Artifact.load(exp_taxa_fp).view(pd.DataFrame)\n",
    "        obs_taxa_fp = os.path.join(cw_dir, fn)\n",
    "        obs_taxa = qiime2.Artifact.load(obs_taxa_fp).view(pd.DataFrame)\n",
    "\n",
    "        results = _calc_prf(exp_taxa, obs_taxa, table)\n",
    "        results['class weights'] = cw\n",
    "        results['sample type'] = sample_type\n",
    "        results['sample'] = sample\n",
    "\n",
    "        prf_results = pd.concat([prf_results, results])\n",
    "\n",
    "        # evaluate composition\n",
    "        table_fp = os.path.join(frequencies_dir, fn)\n",
    "        table = qiime2.Artifact.load(table_fp)\n",
    "        exp_table = _collapse_frequency_table_to_relative_frequency(\n",
    "            table, qiime2.Artifact.load(exp_taxa_fp))\n",
    "        obs_table = _collapse_frequency_table_to_relative_frequency(\n",
    "            table, qiime2.Artifact.load(obs_taxa_fp))\n",
    "\n",
    "        results = _eval_comp_basic(exp_table, obs_table)\n",
    "        results['class weights'] = cw\n",
    "        results['sample type'] = sample_type\n",
    "        results['sample'] = sample\n",
    "\n",
    "        eval_results = pd.concat([eval_results, results])\n",
    "\n",
    "    return prf_results, eval_results\n",
    "\n",
    "def _check_sample_type(fns, df, class_weights, sample_type, is_prf=False):\n",
    "    if len(df) == 0:\n",
    "        return fns\n",
    "    type_and_weight = df[df['sample type'] == sample_type]['sample']\n",
    "    for_eval = []\n",
    "    for fn in fns:\n",
    "        levels = sum(type_and_weight == fn[:-4])\n",
    "        m = 2 if is_prf else 1\n",
    "        assert levels == 0 or levels == 7*m*(len(class_weights) - 1), \\\n",
    "            'got partial record for ' + fn\n",
    "        if levels == 0:\n",
    "            for_eval.append(fn)\n",
    "    return for_eval\n",
    "\n",
    "def _get_params_from_model(model_descriptor):\n",
    "    # RandomForest/9-16-1000-sqrt-0.8\n",
    "    model_name = model_descriptor.split(\"/\")[0]\n",
    "    model_params = model_descriptor.split(\"/\")[1]\n",
    "    \n",
    "    model_id, confidence, depth, features, estimators = None, None, None, None, None\n",
    "    param_split = model_params.split('-')\n",
    "    if len(param_split) == 2:\n",
    "        model_id = param_split[0]\n",
    "        confidence = float(param_split[1])\n",
    "    elif len(param_split) == 5:\n",
    "        model_id = f\"{model_name}{param_split[0]}\"\n",
    "        depth = int(param_split[1]) if param_split[1] != \"none\" else \"none\"\n",
    "        estimators = int(param_split[2])\n",
    "        features = param_split[3]\n",
    "        confidence = float(param_split[4])\n",
    "    return model_id, confidence, depth, features, estimators"
   ]
  },
  {
   "cell_type": "markdown",
   "metadata": {},
   "source": [
    "## Data sources and sample types\n",
    "In order to run the analyses below, update the path to where your data is located (`project_dir`). Also, indicate which sample types you want to use in the analysis (corresponding directories need to exist within your project directory). Class weights paths will be discovered automatically - you should see them below.\n",
    "\n",
    "Most of the analyses/figures presented here refer to only one sample type though, so only the first element of `sample_types` is usually taken into account."
   ]
  },
  {
   "cell_type": "code",
   "execution_count": 3,
   "metadata": {},
   "outputs": [],
   "source": [
    "project_dir = os.path.expandvars('/Users/mziemski/feature_classifier_paper/data/eval_rf/')\n",
    "sample_types = ['sediment-non-saline']"
   ]
  },
  {
   "cell_type": "code",
   "execution_count": 4,
   "metadata": {},
   "outputs": [],
   "source": [
    "class_weights = []\n",
    "for path in glob(os.path.join(project_dir, sample_types[0], 'results', 'RandomForest', '*')):\n",
    "    class_weights.append('/'.join(path.split('/')[-2:]))"
   ]
  },
  {
   "cell_type": "code",
   "execution_count": 5,
   "metadata": {},
   "outputs": [
    {
     "data": {
      "text/plain": [
       "['RandomForest/9-16-1000-sqrt-0.8',\n",
       " 'RandomForest/15-64-100-sqrt-0.8',\n",
       " 'RandomForest/12-16-1000-none-0.8',\n",
       " 'RandomForest/1-16-100-sqrt-0.6',\n",
       " 'RandomForest/13-64-100-sqrt-0.6',\n",
       " 'RandomForest/8-16-1000-sqrt-0.7',\n",
       " 'RandomForest/7-16-1000-sqrt-0.6',\n",
       " 'RandomForest/6-16-100-none-0.8',\n",
       " 'RandomForest/14-64-100-sqrt-0.7',\n",
       " 'RandomForest/30-none-100-none-0.8',\n",
       " 'RandomForest/3-16-100-sqrt-0.8',\n",
       " 'RandomForest/29-none-100-none-0.7',\n",
       " 'RandomForest/nb-0.7',\n",
       " 'RandomForest/16-64-100-none-0.6',\n",
       " 'RandomForest/nb-0.8',\n",
       " 'RandomForest/4-16-100-none-0.6',\n",
       " 'RandomForest/10-16-1000-none-0.6',\n",
       " 'RandomForest/28-none-100-none-0.6',\n",
       " 'RandomForest/nb-0.6',\n",
       " 'RandomForest/5-16-100-none-0.7',\n",
       " 'RandomForest/18-64-100-none-0.8',\n",
       " 'RandomForest/17-64-100-none-0.7',\n",
       " 'RandomForest/11-16-1000-none-0.7',\n",
       " 'RandomForest/2-16-100-sqrt-0.7']"
      ]
     },
     "execution_count": 5,
     "metadata": {},
     "output_type": "execute_result"
    }
   ],
   "source": [
    "class_weights"
   ]
  },
  {
   "cell_type": "markdown",
   "metadata": {},
   "source": [
    "## Run the evaluation"
   ]
  },
  {
   "cell_type": "markdown",
   "metadata": {},
   "source": [
    "#### Evaluate cross-validation results or read the evaluation from file."
   ]
  },
  {
   "cell_type": "code",
   "execution_count": 6,
   "metadata": {},
   "outputs": [
    {
     "name": "stdout",
     "output_type": "stream",
     "text": [
      "Evaluation results were loaded from a file.\n"
     ]
    }
   ],
   "source": [
    "if os.path.exists(os.path.join(project_dir, 'eval_comp_results.tsv')):\n",
    "    eval_comp_results = pd.read_csv(os.path.join(project_dir, 'eval_comp_results.tsv'), sep='\\t')\n",
    "else:\n",
    "    eval_comp_results = pd.DataFrame()\n",
    "if os.path.exists(os.path.join(project_dir, 'eval_taxa_prf.tsv')):\n",
    "    prf_results = pd.read_csv(os.path.join(project_dir, 'eval_taxa_prf.tsv'), sep='\\t')\n",
    "else:\n",
    "    prf_results = pd.DataFrame()\n",
    "\n",
    "if not eval_comp_results.shape[0] > 0 and not prf_results.shape[0] > 0:\n",
    "    for sample_type in sample_types:\n",
    "        type_results = pd.DataFrame()\n",
    "        type_dir = os.path.join(project_dir, sample_type, 'results')\n",
    "        expected_dir = os.path.join(type_dir, 'expected')\n",
    "        fns = os.listdir(expected_dir)\n",
    "        frequencies_dir = os.path.join(type_dir, 'abundance')\n",
    "        relative_frequencies_dir = os.path.join(type_dir, 'relative_frequencies')\n",
    "        if not os.path.exists(relative_frequencies_dir):\n",
    "            os.makedirs(relative_frequencies_dir)\n",
    "\n",
    "        results = Parallel(n_jobs=4, verbose=50, batch_size=1)(\n",
    "            delayed(_eval_for_class_weights)(\n",
    "                cw, type_dir, expected_dir, fns, \n",
    "                frequencies_dir, relative_frequencies_dir) \n",
    "            for cw in class_weights)\n",
    "\n",
    "        prf_list, eval_list = zip(*results)\n",
    "        prf_results = pd.concat([prf_results] + list(prf_list))\n",
    "        eval_comp_results = pd.concat([eval_comp_results] + list(eval_list))\n",
    "        \n",
    "        eval_comp_results.to_csv(os.path.join(project_dir, 'eval_comp_results.tsv'), sep='\\t')\n",
    "        prf_results.to_csv(os.path.join(project_dir, 'eval_taxa_prf.tsv'), sep='\\t')\n",
    "else:\n",
    "    print(\"Evaluation results were loaded from a file.\")"
   ]
  },
  {
   "cell_type": "code",
   "execution_count": 7,
   "metadata": {},
   "outputs": [
    {
     "name": "stdout",
     "output_type": "stream",
     "text": [
      "Evaluation results shape: (3512849, 17) and columns: Index(['Unnamed: 0', 'sample', 'level', 'Observed Taxa',\n",
      "       'Observed / Expected Taxa', 'TAR', 'TDR', 'Slope', 'Intercept',\n",
      "       'r-value', 'P value', 'Std Err', 'Bray-Curtis', 'Jaccard', 'r-squared',\n",
      "       'class weights', 'sample type'],\n",
      "      dtype='object')\n",
      "PRF results shape: (7041580, 9)\n"
     ]
    }
   ],
   "source": [
    "print(\"Evaluation results shape:\", eval_comp_results.shape, \"and columns:\", eval_comp_results.columns)\n",
    "print(\"PRF results shape:\", prf_results.shape)"
   ]
  },
  {
   "cell_type": "code",
   "execution_count": 8,
   "metadata": {},
   "outputs": [
    {
     "data": {
      "text/plain": [
       "array(['RandomForest/9-16-1000-sqrt-0.8',\n",
       "       'RandomForest/15-64-100-sqrt-0.8',\n",
       "       'RandomForest/12-16-1000-none-0.8',\n",
       "       'RandomForest/1-16-100-sqrt-0.6',\n",
       "       'RandomForest/13-64-100-sqrt-0.6',\n",
       "       'RandomForest/8-16-1000-sqrt-0.7',\n",
       "       'RandomForest/7-16-1000-sqrt-0.6',\n",
       "       'RandomForest/6-16-100-none-0.8',\n",
       "       'RandomForest/14-64-100-sqrt-0.7',\n",
       "       'RandomForest/30-none-100-none-0.8',\n",
       "       'RandomForest/3-16-100-sqrt-0.8',\n",
       "       'RandomForest/29-none-100-none-0.7', 'RandomForest/nb-0.7',\n",
       "       'RandomForest/16-64-100-none-0.6', 'RandomForest/nb-0.8',\n",
       "       'RandomForest/4-16-100-none-0.6',\n",
       "       'RandomForest/10-16-1000-none-0.6',\n",
       "       'RandomForest/28-none-100-none-0.6', 'RandomForest/nb-0.6',\n",
       "       'RandomForest/5-16-100-none-0.7',\n",
       "       'RandomForest/18-64-100-none-0.8',\n",
       "       'RandomForest/17-64-100-none-0.7',\n",
       "       'RandomForest/11-16-1000-none-0.7',\n",
       "       'RandomForest/2-16-100-sqrt-0.7'], dtype=object)"
      ]
     },
     "execution_count": 8,
     "metadata": {},
     "output_type": "execute_result"
    }
   ],
   "source": [
    "prf_results[\"class weights\"].unique()"
   ]
  },
  {
   "cell_type": "code",
   "execution_count": 9,
   "metadata": {},
   "outputs": [
    {
     "name": "stdout",
     "output_type": "stream",
     "text": [
      "(3512849, 16) (7041580, 13)\n"
     ]
    }
   ],
   "source": [
    "# clean up some stray columns (all starting with \"Unnamed\" - probably DF index that was repeatedly saved to file)\n",
    "cols_to_keep = [col for col in eval_comp_results.columns if not col.startswith('Unnamed')]\n",
    "eval_comp_results_clean = eval_comp_results[cols_to_keep]\n",
    "\n",
    "cols_to_keep = [col for col in prf_results.columns if not col.startswith('Unnamed')]\n",
    "prf_results_clean = prf_results[cols_to_keep]\n",
    "prf_results_clean[\"model name\"], prf_results_clean[\"confidence\"], prf_results_clean[\"max_depth\"], prf_results_clean[\"n_features\"], prf_results_clean[\"n_estimators\"] = zip(\n",
    "    *prf_results_clean[\"class weights\"].apply(_get_params_from_model))\n",
    "\n",
    "# save as a backup\n",
    "eval_comp_results_clean.to_csv(os.path.join(project_dir, 'eval_comp_results_cleaned.tsv'), sep='\\t')\n",
    "prf_results_clean.to_csv(os.path.join(project_dir, 'eval_taxa_prf_cleaned.tsv'), sep='\\t')\n",
    "\n",
    "print(eval_comp_results_clean.shape, prf_results_clean.shape)"
   ]
  },
  {
   "cell_type": "code",
   "execution_count": 10,
   "metadata": {},
   "outputs": [
    {
     "data": {
      "text/html": [
       "<div>\n",
       "<style scoped>\n",
       "    .dataframe tbody tr th:only-of-type {\n",
       "        vertical-align: middle;\n",
       "    }\n",
       "\n",
       "    .dataframe tbody tr th {\n",
       "        vertical-align: top;\n",
       "    }\n",
       "\n",
       "    .dataframe thead th {\n",
       "        text-align: right;\n",
       "    }\n",
       "</style>\n",
       "<table border=\"1\" class=\"dataframe\">\n",
       "  <thead>\n",
       "    <tr style=\"text-align: right;\">\n",
       "      <th></th>\n",
       "      <th>level</th>\n",
       "      <th>Precision</th>\n",
       "      <th>Recall</th>\n",
       "      <th>F-measure</th>\n",
       "      <th>method</th>\n",
       "      <th>class weights</th>\n",
       "      <th>sample type</th>\n",
       "      <th>sample</th>\n",
       "      <th>model name</th>\n",
       "      <th>confidence</th>\n",
       "      <th>max_depth</th>\n",
       "      <th>n_features</th>\n",
       "      <th>n_estimators</th>\n",
       "    </tr>\n",
       "  </thead>\n",
       "  <tbody>\n",
       "    <tr>\n",
       "      <th>0</th>\n",
       "      <td>1</td>\n",
       "      <td>1.0</td>\n",
       "      <td>1.000000</td>\n",
       "      <td>1.000000</td>\n",
       "      <td>weighted</td>\n",
       "      <td>RandomForest/9-16-1000-sqrt-0.8</td>\n",
       "      <td>sediment-non-saline</td>\n",
       "      <td>10184.10030521.61428</td>\n",
       "      <td>RandomForest9</td>\n",
       "      <td>0.8</td>\n",
       "      <td>16</td>\n",
       "      <td>sqrt</td>\n",
       "      <td>1000</td>\n",
       "    </tr>\n",
       "    <tr>\n",
       "      <th>1</th>\n",
       "      <td>2</td>\n",
       "      <td>1.0</td>\n",
       "      <td>0.899633</td>\n",
       "      <td>0.947165</td>\n",
       "      <td>weighted</td>\n",
       "      <td>RandomForest/9-16-1000-sqrt-0.8</td>\n",
       "      <td>sediment-non-saline</td>\n",
       "      <td>10184.10030521.61428</td>\n",
       "      <td>RandomForest9</td>\n",
       "      <td>0.8</td>\n",
       "      <td>16</td>\n",
       "      <td>sqrt</td>\n",
       "      <td>1000</td>\n",
       "    </tr>\n",
       "  </tbody>\n",
       "</table>\n",
       "</div>"
      ],
      "text/plain": [
       "   level  Precision    Recall  F-measure    method  \\\n",
       "0      1        1.0  1.000000   1.000000  weighted   \n",
       "1      2        1.0  0.899633   0.947165  weighted   \n",
       "\n",
       "                     class weights          sample type                sample  \\\n",
       "0  RandomForest/9-16-1000-sqrt-0.8  sediment-non-saline  10184.10030521.61428   \n",
       "1  RandomForest/9-16-1000-sqrt-0.8  sediment-non-saline  10184.10030521.61428   \n",
       "\n",
       "      model name  confidence max_depth n_features n_estimators  \n",
       "0  RandomForest9         0.8        16       sqrt         1000  \n",
       "1  RandomForest9         0.8        16       sqrt         1000  "
      ]
     },
     "execution_count": 10,
     "metadata": {},
     "output_type": "execute_result"
    }
   ],
   "source": [
    "prf_results_clean.head(2)"
   ]
  },
  {
   "cell_type": "markdown",
   "metadata": {},
   "source": [
    "#### Read in information about the cross-validation folds."
   ]
  },
  {
   "cell_type": "code",
   "execution_count": 11,
   "metadata": {
    "tags": []
   },
   "outputs": [
    {
     "data": {
      "text/html": [
       "<div>\n",
       "<style scoped>\n",
       "    .dataframe tbody tr th:only-of-type {\n",
       "        vertical-align: middle;\n",
       "    }\n",
       "\n",
       "    .dataframe tbody tr th {\n",
       "        vertical-align: top;\n",
       "    }\n",
       "\n",
       "    .dataframe thead th {\n",
       "        text-align: right;\n",
       "    }\n",
       "</style>\n",
       "<table border=\"1\" class=\"dataframe\">\n",
       "  <thead>\n",
       "    <tr style=\"text-align: right;\">\n",
       "      <th></th>\n",
       "      <th>id</th>\n",
       "      <th>fold</th>\n",
       "    </tr>\n",
       "  </thead>\n",
       "  <tbody>\n",
       "    <tr>\n",
       "      <th>0</th>\n",
       "      <td>11757.G445224461.58900</td>\n",
       "      <td>2</td>\n",
       "    </tr>\n",
       "    <tr>\n",
       "      <th>1</th>\n",
       "      <td>11757.G440205035.58900</td>\n",
       "      <td>2</td>\n",
       "    </tr>\n",
       "    <tr>\n",
       "      <th>2</th>\n",
       "      <td>11757.G445302613.58900</td>\n",
       "      <td>2</td>\n",
       "    </tr>\n",
       "    <tr>\n",
       "      <th>3</th>\n",
       "      <td>11757.G441303167.58900</td>\n",
       "      <td>2</td>\n",
       "    </tr>\n",
       "  </tbody>\n",
       "</table>\n",
       "</div>"
      ],
      "text/plain": [
       "                       id fold\n",
       "0  11757.G445224461.58900    2\n",
       "1  11757.G440205035.58900    2\n",
       "2  11757.G445302613.58900    2\n",
       "3  11757.G441303167.58900    2"
      ]
     },
     "execution_count": 11,
     "metadata": {},
     "output_type": "execute_result"
    }
   ],
   "source": [
    "folds_loc = os.path.join(project_dir, sample_types[0], \"tmp\")\n",
    "test_seqs = {}\n",
    "for fold in glob(os.path.join(folds_loc, \"*\")):\n",
    "    fold_base = fold.split(\"/\")[-1]\n",
    "    if fold_base.startswith(\"fold\"):\n",
    "        with open(os.path.join(fold, \"sample_test.json\")) as json_file:\n",
    "            seq_ids = json.load(json_file)\n",
    "            test_seqs[fold_base] = seq_ids\n",
    "test_seqs_map = {}\n",
    "for fold, seq_ids in test_seqs.items():\n",
    "    for seq_id in seq_ids:\n",
    "        if seq_id not in test_seqs_map.keys():\n",
    "            test_seqs_map[seq_id] = fold.split(\"-\")[-1]\n",
    "        else:\n",
    "            print(f\"Sequence id {seq_id} already exists! - skipping\")\n",
    "\n",
    "test_seqs_map_df = pd.DataFrame(test_seqs_map.items(), columns=[\"id\", \"fold\"])\n",
    "test_seqs_map_df.head(4)"
   ]
  },
  {
   "cell_type": "markdown",
   "metadata": {},
   "source": [
    "## Visualise classification accuracy \n",
    "Run the cells below to generate plots showing various accuracy metrics of different samples and class weights (your classifiers) at all taxonomy levels. Only results of `weighted` analysis will be taken into account and used for plotting. All plots will be generated only for the `species` level (level 7)."
   ]
  },
  {
   "cell_type": "code",
   "execution_count": 12,
   "metadata": {},
   "outputs": [],
   "source": [
    "level7 = prf_results_clean[prf_results_clean['level'] == 7]\n",
    "level7_weighted = level7[level7['method'] == 'weighted']"
   ]
  },
  {
   "cell_type": "code",
   "execution_count": 13,
   "metadata": {},
   "outputs": [
    {
     "name": "stdout",
     "output_type": "stream",
     "text": [
      "(502970, 13)\n"
     ]
    },
    {
     "data": {
      "text/html": [
       "<div>\n",
       "<style scoped>\n",
       "    .dataframe tbody tr th:only-of-type {\n",
       "        vertical-align: middle;\n",
       "    }\n",
       "\n",
       "    .dataframe tbody tr th {\n",
       "        vertical-align: top;\n",
       "    }\n",
       "\n",
       "    .dataframe thead th {\n",
       "        text-align: right;\n",
       "    }\n",
       "</style>\n",
       "<table border=\"1\" class=\"dataframe\">\n",
       "  <thead>\n",
       "    <tr style=\"text-align: right;\">\n",
       "      <th></th>\n",
       "      <th>level</th>\n",
       "      <th>Precision</th>\n",
       "      <th>Recall</th>\n",
       "      <th>F-measure</th>\n",
       "      <th>method</th>\n",
       "      <th>class weights</th>\n",
       "      <th>sample type</th>\n",
       "      <th>sample</th>\n",
       "      <th>model name</th>\n",
       "      <th>confidence</th>\n",
       "      <th>max_depth</th>\n",
       "      <th>n_features</th>\n",
       "      <th>n_estimators</th>\n",
       "    </tr>\n",
       "  </thead>\n",
       "  <tbody>\n",
       "    <tr>\n",
       "      <th>6</th>\n",
       "      <td>7</td>\n",
       "      <td>0.985453</td>\n",
       "      <td>0.373797</td>\n",
       "      <td>0.542004</td>\n",
       "      <td>weighted</td>\n",
       "      <td>RandomForest/9-16-1000-sqrt-0.8</td>\n",
       "      <td>sediment-non-saline</td>\n",
       "      <td>10184.10030521.61428</td>\n",
       "      <td>RandomForest9</td>\n",
       "      <td>0.8</td>\n",
       "      <td>16</td>\n",
       "      <td>sqrt</td>\n",
       "      <td>1000</td>\n",
       "    </tr>\n",
       "    <tr>\n",
       "      <th>20</th>\n",
       "      <td>7</td>\n",
       "      <td>0.964433</td>\n",
       "      <td>0.207215</td>\n",
       "      <td>0.341135</td>\n",
       "      <td>weighted</td>\n",
       "      <td>RandomForest/9-16-1000-sqrt-0.8</td>\n",
       "      <td>sediment-non-saline</td>\n",
       "      <td>11757.G440205218.58900</td>\n",
       "      <td>RandomForest9</td>\n",
       "      <td>0.8</td>\n",
       "      <td>16</td>\n",
       "      <td>sqrt</td>\n",
       "      <td>1000</td>\n",
       "    </tr>\n",
       "  </tbody>\n",
       "</table>\n",
       "</div>"
      ],
      "text/plain": [
       "    level  Precision    Recall  F-measure    method  \\\n",
       "6       7   0.985453  0.373797   0.542004  weighted   \n",
       "20      7   0.964433  0.207215   0.341135  weighted   \n",
       "\n",
       "                      class weights          sample type  \\\n",
       "6   RandomForest/9-16-1000-sqrt-0.8  sediment-non-saline   \n",
       "20  RandomForest/9-16-1000-sqrt-0.8  sediment-non-saline   \n",
       "\n",
       "                    sample     model name  confidence max_depth n_features  \\\n",
       "6     10184.10030521.61428  RandomForest9         0.8        16       sqrt   \n",
       "20  11757.G440205218.58900  RandomForest9         0.8        16       sqrt   \n",
       "\n",
       "   n_estimators  \n",
       "6          1000  \n",
       "20         1000  "
      ]
     },
     "execution_count": 13,
     "metadata": {},
     "output_type": "execute_result"
    }
   ],
   "source": [
    "print(level7_weighted.shape)\n",
    "level7_weighted.head(2)"
   ]
  },
  {
   "cell_type": "markdown",
   "metadata": {},
   "source": [
    "Add information about folds."
   ]
  },
  {
   "cell_type": "code",
   "execution_count": 14,
   "metadata": {
    "tags": []
   },
   "outputs": [
    {
     "name": "stdout",
     "output_type": "stream",
     "text": [
      "Merge successful.\n"
     ]
    }
   ],
   "source": [
    "level7_weighted_folds = pd.merge(left=level7_weighted, right=test_seqs_map_df, left_on=\"sample\", right_on=\"id\")\n",
    "\n",
    "if level7_weighted_folds.shape[0] != level7_weighted.shape[0]:\n",
    "    print(\"Some samples were lost during merging fold information into original df.\")\n",
    "else:\n",
    "    print(\"Merge successful.\")"
   ]
  },
  {
   "cell_type": "markdown",
   "metadata": {},
   "source": [
    "Fill NB parameters' columns to avoid NaNs. "
   ]
  },
  {
   "cell_type": "code",
   "execution_count": 15,
   "metadata": {},
   "outputs": [],
   "source": [
    "level7_weighted_folds.loc[level7_weighted_folds[\"model name\"] == \"nb\", [\"max_depth\", \"n_estimators\", \"n_features\"]] = \"NB\""
   ]
  },
  {
   "cell_type": "markdown",
   "metadata": {},
   "source": [
    "Double check that there are no NaN values in parameter columns."
   ]
  },
  {
   "cell_type": "code",
   "execution_count": 16,
   "metadata": {},
   "outputs": [
    {
     "name": "stdout",
     "output_type": "stream",
     "text": [
      "[1000 100 'NB']\n",
      "['sqrt' 'none' 'NB']\n",
      "[16 64 'none' 'NB']\n"
     ]
    }
   ],
   "source": [
    "for param in [\"n_estimators\", \"n_features\", \"max_depth\"]:\n",
    "    print(level7_weighted_folds[param].unique())"
   ]
  },
  {
   "cell_type": "markdown",
   "metadata": {},
   "source": [
    "### Metrics per taxonomic level"
   ]
  },
  {
   "cell_type": "code",
   "execution_count": 17,
   "metadata": {},
   "outputs": [],
   "source": [
    "def boxplots_per_confidence(data, metric, conf_levels, param, palette, x_order, y_lims, y_ticks_major, y_ticks_minor, x_label, save_loc=None):\n",
    "    with sns.axes_style(\"whitegrid\"):\n",
    "        fig, axes = plt.subplots(1, 3)\n",
    "        fig.set_size_inches(16, 5)\n",
    "\n",
    "        for j, conf in enumerate(conf_levels):\n",
    "            data_before_group = data[data[\"confidence\"] == conf]\n",
    "\n",
    "            grouped_level7 = data_before_group.groupby(['model name', 'level', 'confidence', 'fold', param])\n",
    "            axis_data = grouped_level7.mean().reset_index()\n",
    "\n",
    "            g = sns.boxplot(\n",
    "                x=param, y=metric, data=axis_data, ax=axes[j], palette=palette, order=x_order)\n",
    "            g.set_ylim(y_lims)\n",
    "            g.yaxis.set_ticks(np.arange(y_ticks_major[0], y_ticks_major[1], 0.1))\n",
    "            if y_ticks_minor:\n",
    "                minor_locator = AutoMinorLocator(2)\n",
    "                g.yaxis.set_minor_locator(minor_locator)\n",
    "                g.tick_params(which='minor', length=4)\n",
    "                g.grid(True, which='minor', axis='y')\n",
    "\n",
    "            # set a common x-axis label\n",
    "            if j == 1:\n",
    "                g.set_xlabel(x_label, fontsize=15)\n",
    "            else:\n",
    "                g.set_xlabel(\"\")\n",
    "\n",
    "            # remove x-ticks from most of the plots and set y-axis labels' size\n",
    "            if j > 0:\n",
    "                g.set_yticklabels([])\n",
    "                g.set_ylabel(\"\")\n",
    "            else:\n",
    "                g.tick_params(left='on', which='both')\n",
    "                g.yaxis.label.set_size(15)\n",
    "                for tick in g.yaxis.get_major_ticks():\n",
    "                    tick.label.set_fontsize(14)\n",
    "            for tick in g.xaxis.get_major_ticks():\n",
    "                    tick.label.set_fontsize(14)\n",
    "\n",
    "            # add confidence labels to the top of the grid\n",
    "            g.text(1., .935, f\"Confidence = {conf}\", verticalalignment ='center', horizontalalignment ='center', fontsize=14)\n",
    "        if save_loc:\n",
    "            fig.savefig(save_loc, dpi=300)"
   ]
  },
  {
   "cell_type": "code",
   "execution_count": 18,
   "metadata": {},
   "outputs": [
    {
     "data": {
      "image/png": "[encoded data removed]",
      "text/plain": [
       "<Figure size 1152x360 with 3 Axes>"
      ]
     },
     "metadata": {},
     "output_type": "display_data"
    }
   ],
   "source": [
    "metric = \"F-measure\"\n",
    "params = [\"n_estimators\", \"n_features\", \"max_depth\"]\n",
    "y_lims = [0.52, 0.92]\n",
    "y_ticks_major = [0.6, 1.0]\n",
    "y_ticks_minor = False\n",
    "other_columns = [\"level\", \"model name\", \"confidence\", \"fold\"]\n",
    "conf_levels = [0.6, 0.7, 0.8]\n",
    "palette = \"colorblind\"\n",
    "param = \"n_estimators\"\n",
    "x_label = \"Number of estimators\"\n",
    "order = [100, 1000, \"NB\"]\n",
    "# fig_save_loc = os.path.join(project_dir, sample_types[0], f\"fig-{metric}-{param}.eps\")\n",
    "fig_save_loc = None\n",
    "\n",
    "data_slice = level7_weighted_folds[[metric] + params + other_columns]\n",
    "data = data_slice[(data_slice[\"max_depth\"].isin([16, \"NB\"])) & (data_slice[\"n_features\"].isin([\"none\",\"NB\"]))]\n",
    "\n",
    "boxplots_per_confidence(data, metric, conf_levels, param, palette, order, y_lims, y_ticks_major, y_ticks_minor, x_label, fig_save_loc)"
   ]
  },
  {
   "cell_type": "code",
   "execution_count": 19,
   "metadata": {},
   "outputs": [
    {
     "data": {
      "image/png": "[encoded data removed]",
      "text/plain": [
       "<Figure size 1152x360 with 3 Axes>"
      ]
     },
     "metadata": {},
     "output_type": "display_data"
    }
   ],
   "source": [
    "metric = \"F-measure\"\n",
    "params = [\"n_estimators\", \"n_features\", \"max_depth\"]\n",
    "y_lims = [0.44, 0.92]\n",
    "y_ticks_major = [0.5, 1.0]\n",
    "y_ticks_minor = False\n",
    "other_columns = [\"level\", \"model name\", \"confidence\", \"fold\"]\n",
    "conf_levels = [0.6, 0.7, 0.8]\n",
    "palette = \"colorblind\"\n",
    "param = \"n_features\"\n",
    "x_label = \"Number of features\"\n",
    "order = [\"sqrt\", \"none\", \"NB\"]\n",
    "# fig_save_loc = os.path.join(project_dir, sample_types[0], f\"fig-{metric}-{param}.svg\")\n",
    "fig_save_loc = None\n",
    "\n",
    "data_slice = level7_weighted_folds[[metric] + params + other_columns]\n",
    "data = data_slice[(data_slice[\"max_depth\"].isin([16, \"NB\"])) & (data_slice[\"n_estimators\"].isin([100,\"NB\"]))]\n",
    "\n",
    "boxplots_per_confidence(data, metric, conf_levels, param, palette, order, y_lims, y_ticks_major, y_ticks_minor, x_label, fig_save_loc)"
   ]
  },
  {
   "cell_type": "code",
   "execution_count": 20,
   "metadata": {},
   "outputs": [
    {
     "data": {
      "image/png": "[encoded data removed]",
      "text/plain": [
       "<Figure size 1152x360 with 3 Axes>"
      ]
     },
     "metadata": {},
     "output_type": "display_data"
    }
   ],
   "source": [
    "metric = \"F-measure\"\n",
    "params = [\"n_estimators\", \"n_features\", \"max_depth\"]\n",
    "y_lims = [0.52, 0.91]\n",
    "y_ticks_major = [0.6, 1.0]\n",
    "y_ticks_minor = False\n",
    "other_columns = [\"level\", \"model name\", \"confidence\", \"fold\"]\n",
    "conf_levels = [0.6, 0.7, 0.8]\n",
    "palette = \"colorblind\"\n",
    "param = \"max_depth\"\n",
    "x_label = \"Max. tree depth\"\n",
    "order = [16, 64, \"none\", \"NB\"]\n",
    "# fig_save_loc = os.path.join(project_dir, sample_types[0], f\"fig-{metric}-{param}.svg\")\n",
    "fig_save_loc = None\n",
    "\n",
    "data_slice = level7_weighted_folds[[metric] + params + other_columns]\n",
    "data = data_slice[(data_slice[\"n_estimators\"].isin([100, \"NB\"])) & (data_slice[\"n_features\"].isin([\"none\", \"NB\"]))]\n",
    "\n",
    "boxplots_per_confidence(data, metric, conf_levels, param, palette, order, y_lims, y_ticks_major, y_ticks_minor, x_label, fig_save_loc)"
   ]
  },
  {
   "cell_type": "markdown",
   "metadata": {},
   "source": [
    "Generate one horizontal plot with selected models."
   ]
  },
  {
   "cell_type": "code",
   "execution_count": 21,
   "metadata": {},
   "outputs": [
    {
     "data": {
      "image/png": "[encoded data removed]",
      "text/plain": [
       "<Figure size 1440x360 with 1 Axes>"
      ]
     },
     "metadata": {},
     "output_type": "display_data"
    }
   ],
   "source": [
    "metric = \"F-measure\"\n",
    "params = [\"n_features\", \"n_estimators\", \"max_depth\"]\n",
    "y_lims = [0.52, 0.91]\n",
    "y_ticks_major = [0.5, 1.0]\n",
    "y_ticks_minor = False\n",
    "other_columns = [\"level\", \"model name\", \"confidence\", \"fold\", \"class weights\"]\n",
    "conf_levels = [0.6, 0.7, 0.8]\n",
    "palette = \"colorblind\"\n",
    "order = [16, 64, \"NB\"]\n",
    "# save_loc = os.path.join(project_dir, sample_types[0], f\"fig-{metric}-allmodels-updated.svg\")\n",
    "save_loc = None\n",
    "\n",
    "data_slice = level7_weighted_folds[[metric] + params + other_columns]\n",
    "\n",
    "selection1 = (data_slice[\"max_depth\"].isin([16, \"NB\"])) & (data_slice[\"n_features\"].isin([\"sqrt\", \"NB\"])) & (data_slice[\"n_estimators\"].isin([100, 1000, \"NB\"]))  \n",
    "selection2 = (data_slice[\"max_depth\"].isin([16, \"NB\"])) & (data_slice[\"n_estimators\"].isin([100, \"NB\"])) & (data_slice[\"n_features\"].isin([\"sqrt\", \"none\", \"NB\"]))\n",
    "selection3 = (data_slice[\"n_estimators\"].isin([100, \"NB\"])) & (data_slice[\"n_features\"].isin([\"none\", \"NB\"])) & (data_slice[\"max_depth\"].isin([16, 64, \"none\", \"NB\"]))\n",
    "data = data_slice[selection1 | selection2 | selection3]\n",
    "\n",
    "with sns.axes_style(\"whitegrid\"):\n",
    "    fig, axes = plt.subplots(1, 1)\n",
    "    fig.set_size_inches(20, 5)\n",
    "    \n",
    "    # calculate mean metric for each fold by grouping by model\n",
    "    # reset index to unstack all the levels from the multi-level index for easy plotting\n",
    "    grouped_level7 = data.groupby(['model name', 'level', 'confidence', 'fold', \"class weights\"] + params)\n",
    "    axis_data = grouped_level7.mean().reset_index()\n",
    "    axis_data.sort_values([\"confidence\"] + params, ascending=True, inplace=True)\n",
    "    \n",
    "    # sort by confidence to plot in confidence groups\n",
    "    all_models = axis_data[\"class weights\"].unique()\n",
    "    all_models_sorted = sorted(all_models, key=lambda x: x.split(\"-\")[-1])\n",
    "\n",
    "    color_palette = sns.color_palette(palette, axis_data[params].drop_duplicates(inplace=False).shape[0])\n",
    "    g = sns.boxplot(x=\"class weights\", y=metric, data=axis_data, ax=axes, palette=color_palette, order=all_models_sorted)\n",
    "    \n",
    "    # set custom y ticks\n",
    "    g.yaxis.set_ticks(np.arange(y_ticks_major[0], y_ticks_major[1], 0.1))\n",
    "    if y_ticks_minor:\n",
    "        minor_locator = AutoMinorLocator(2)\n",
    "        g.yaxis.set_minor_locator(minor_locator)\n",
    "        g.tick_params(which='minor', length=4)\n",
    "        g.grid(True, which='minor', axis='y')\n",
    "\n",
    "    # set some font sizes\n",
    "    g.yaxis.label.set_size(15)\n",
    "    for tick in g.yaxis.get_major_ticks():\n",
    "        tick.label.set_fontsize(14)\n",
    "    for tick in g.xaxis.get_major_ticks():\n",
    "        tick.label.set_fontsize(14)\n",
    "        tick.label.set_rotation(90)\n",
    "    \n",
    "    # relabel x-axis tick for easier identification\n",
    "    new_x_tick_labels = [\"-\".join(tick._text.split(\"/\")[-1].split(\"-\")[1:]) for tick in g.get_xticklabels()]\n",
    "    g.set_xticklabels(new_x_tick_labels)\n",
    "    \n",
    "    if save_loc:\n",
    "        fig.savefig(save_loc, dpi=300)"
   ]
  }
 ],
 "metadata": {
  "kernelspec": {
   "display_name": "Python 3",
   "language": "python",
   "name": "python3"
  },
  "language_info": {
   "codemirror_mode": {
    "name": "ipython",
    "version": 3
   },
   "file_extension": ".py",
   "mimetype": "text/x-python",
   "name": "python",
   "nbconvert_exporter": "python",
   "pygments_lexer": "ipython3",
   "version": "3.6.11"
  }
 },
 "nbformat": 4,
 "nbformat_minor": 4
}
