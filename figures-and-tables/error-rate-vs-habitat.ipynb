{
 "cells": [
  {
   "cell_type": "code",
   "execution_count": 1,
   "metadata": {},
   "outputs": [],
   "source": [
    "from os.path import join\n",
    "import json\n",
    "import csv\n",
    "import glob\n",
    "import os\n",
    "\n",
    "import rpy2.rinterface\n",
    "from pandas import read_csv, DataFrame, Series\n",
    "from qiime2 import Artifact\n",
    "from scipy.stats import t, sem\n",
    "from IPython.display import Image"
   ]
  },
  {
   "cell_type": "code",
   "execution_count": 2,
   "metadata": {},
   "outputs": [],
   "source": [
    "%reload_ext rpy2.ipython"
   ]
  },
  {
   "cell_type": "code",
   "execution_count": 3,
   "metadata": {},
   "outputs": [],
   "source": [
    "%%R \n",
    "library(ggplot2)\n",
    "library(grid)"
   ]
  },
  {
   "cell_type": "code",
   "execution_count": 4,
   "metadata": {},
   "outputs": [],
   "source": [
    "empo3_dir = '/Users/benkaehler/Data/empo_3/'"
   ]
  },
  {
   "cell_type": "code",
   "execution_count": 5,
   "metadata": {},
   "outputs": [],
   "source": [
    "columns = ['sample type', 'sample', 'fold']\n",
    "data = {c:[] for c in columns}\n",
    "for type_dir in glob.glob(join(empo3_dir, '*')):\n",
    "    if not os.path.exists(join(type_dir, 'results', 'weights.qza')):\n",
    "        continue\n",
    "    type_ = os.path.basename(type_dir)\n",
    "    if type_ in ('sterile-water-blank', 'single-strain', 'mock-community', 'nick', 'plant-surface'):\n",
    "        continue\n",
    "    for fold_dir in glob.glob(join(type_dir, 'tmp', 'fold-*')):\n",
    "        _, fold = fold_dir.rsplit('-', 1)\n",
    "        with open(join(fold_dir, 'sample_test.json')) as fh:\n",
    "            try:\n",
    "                samples = json.load(fh)\n",
    "            except UnicodeDecodeError:\n",
    "                print(join(fold_dir, 'sample_test.json'), 'is corrupted')\n",
    "        data['sample'].extend(samples)\n",
    "        data['sample type'].extend([type_]*len(samples))\n",
    "        data['fold'].extend([fold]*len(samples))\n",
    "folds = DataFrame(data)"
   ]
  },
  {
   "cell_type": "code",
   "execution_count": 6,
   "metadata": {},
   "outputs": [],
   "source": [
    "# fix dir from cell 4\n",
    "empo3_dir = '/home/qiime2/empo-3/'\n",
    "\n",
    "eval_er = read_csv(join(empo3_dir, 'eval_taxa_er.tsv'), sep='\\t')\n"
   ]
  },
  {
   "cell_type": "code",
   "execution_count": 7,
   "metadata": {},
   "outputs": [],
   "source": [
    "folds = folds.set_index(['sample type', 'sample'])\n",
    "eval_er = eval_er.join(folds, ['sample type', 'sample'])"
   ]
  },
  {
   "cell_type": "code",
   "execution_count": 8,
   "metadata": {},
   "outputs": [],
   "source": [
    "level7 = eval_er[(eval_er['level'] == 7) | (eval_er['level'] == 6)]\n",
    "level7 = level7[(level7['class weights'] == 'average') |\n",
    "                (level7['class weights'] == 'bespoke70') |\n",
    "                (level7['class weights'] == 'uniform70')]"
   ]
  },
  {
   "cell_type": "code",
   "execution_count": 9,
   "metadata": {},
   "outputs": [],
   "source": [
    "grouped = level7.groupby(['sample type', 'class weights', 'fold', 'level'])\n",
    "def weighted_stats(x):\n",
    "    errors = x['errors'].sum()\n",
    "    abundance = x['reads'].sum()\n",
    "    return Series([errors/abundance], index=['mean'])\n",
    "figure2 = grouped.apply(weighted_stats)\n",
    "figure2.reset_index(inplace=True)"
   ]
  },
  {
   "cell_type": "code",
   "execution_count": 10,
   "metadata": {},
   "outputs": [
    {
     "ename": "KeyError",
     "evalue": "'sample type'",
     "output_type": "error",
     "traceback": [
      "\u001b[0;31m---------------------------------------------------------------------------\u001b[0m",
      "\u001b[0;31mKeyError\u001b[0m                                  Traceback (most recent call last)",
      "\u001b[0;32m<ipython-input-10-992e5096c701>\u001b[0m in \u001b[0;36m<module>\u001b[0;34m\u001b[0m\n\u001b[0;32m----> 1\u001b[0;31m \u001b[0mgrouped\u001b[0m \u001b[0;34m=\u001b[0m \u001b[0mfigure2\u001b[0m\u001b[0;34m.\u001b[0m\u001b[0mgroupby\u001b[0m\u001b[0;34m(\u001b[0m\u001b[0;34m[\u001b[0m\u001b[0;34m'sample type'\u001b[0m\u001b[0;34m,\u001b[0m \u001b[0;34m'class weights'\u001b[0m\u001b[0;34m,\u001b[0m \u001b[0;34m'level'\u001b[0m\u001b[0;34m]\u001b[0m\u001b[0;34m)\u001b[0m\u001b[0;34m\u001b[0m\u001b[0;34m\u001b[0m\u001b[0m\n\u001b[0m\u001b[1;32m      2\u001b[0m \u001b[0;32mdef\u001b[0m \u001b[0mweighted_stats\u001b[0m\u001b[0;34m(\u001b[0m\u001b[0mx\u001b[0m\u001b[0;34m)\u001b[0m\u001b[0;34m:\u001b[0m\u001b[0;34m\u001b[0m\u001b[0;34m\u001b[0m\u001b[0m\n\u001b[1;32m      3\u001b[0m     \u001b[0mmu\u001b[0m \u001b[0;34m=\u001b[0m \u001b[0mx\u001b[0m\u001b[0;34m[\u001b[0m\u001b[0;34m'mean'\u001b[0m\u001b[0;34m]\u001b[0m\u001b[0;34m.\u001b[0m\u001b[0mmean\u001b[0m\u001b[0;34m(\u001b[0m\u001b[0;34m)\u001b[0m\u001b[0;34m\u001b[0m\u001b[0;34m\u001b[0m\u001b[0m\n\u001b[1;32m      4\u001b[0m     \u001b[0mse\u001b[0m \u001b[0;34m=\u001b[0m \u001b[0msem\u001b[0m\u001b[0;34m(\u001b[0m\u001b[0mx\u001b[0m\u001b[0;34m[\u001b[0m\u001b[0;34m'mean'\u001b[0m\u001b[0;34m]\u001b[0m\u001b[0;34m)\u001b[0m\u001b[0;34m\u001b[0m\u001b[0;34m\u001b[0m\u001b[0m\n\u001b[1;32m      5\u001b[0m     \u001b[0;31m#lower, upper = t.interval(0.95, 5, mu, se)\u001b[0m\u001b[0;34m\u001b[0m\u001b[0;34m\u001b[0m\u001b[0;34m\u001b[0m\u001b[0m\n",
      "\u001b[0;32m~/miniconda/envs/qiime2-2019.1/lib/python3.6/site-packages/pandas/core/generic.py\u001b[0m in \u001b[0;36mgroupby\u001b[0;34m(self, by, axis, level, as_index, sort, group_keys, squeeze, observed, **kwargs)\u001b[0m\n\u001b[1;32m   6663\u001b[0m         return groupby(self, by=by, axis=axis, level=level, as_index=as_index,\n\u001b[1;32m   6664\u001b[0m                        \u001b[0msort\u001b[0m\u001b[0;34m=\u001b[0m\u001b[0msort\u001b[0m\u001b[0;34m,\u001b[0m \u001b[0mgroup_keys\u001b[0m\u001b[0;34m=\u001b[0m\u001b[0mgroup_keys\u001b[0m\u001b[0;34m,\u001b[0m \u001b[0msqueeze\u001b[0m\u001b[0;34m=\u001b[0m\u001b[0msqueeze\u001b[0m\u001b[0;34m,\u001b[0m\u001b[0;34m\u001b[0m\u001b[0;34m\u001b[0m\u001b[0m\n\u001b[0;32m-> 6665\u001b[0;31m                        observed=observed, **kwargs)\n\u001b[0m\u001b[1;32m   6666\u001b[0m \u001b[0;34m\u001b[0m\u001b[0m\n\u001b[1;32m   6667\u001b[0m     def asfreq(self, freq, method=None, how=None, normalize=False,\n",
      "\u001b[0;32m~/miniconda/envs/qiime2-2019.1/lib/python3.6/site-packages/pandas/core/groupby/groupby.py\u001b[0m in \u001b[0;36mgroupby\u001b[0;34m(obj, by, **kwds)\u001b[0m\n\u001b[1;32m   2150\u001b[0m         \u001b[0;32mraise\u001b[0m \u001b[0mTypeError\u001b[0m\u001b[0;34m(\u001b[0m\u001b[0;34m'invalid type: %s'\u001b[0m \u001b[0;34m%\u001b[0m \u001b[0mtype\u001b[0m\u001b[0;34m(\u001b[0m\u001b[0mobj\u001b[0m\u001b[0;34m)\u001b[0m\u001b[0;34m)\u001b[0m\u001b[0;34m\u001b[0m\u001b[0;34m\u001b[0m\u001b[0m\n\u001b[1;32m   2151\u001b[0m \u001b[0;34m\u001b[0m\u001b[0m\n\u001b[0;32m-> 2152\u001b[0;31m     \u001b[0;32mreturn\u001b[0m \u001b[0mklass\u001b[0m\u001b[0;34m(\u001b[0m\u001b[0mobj\u001b[0m\u001b[0;34m,\u001b[0m \u001b[0mby\u001b[0m\u001b[0;34m,\u001b[0m \u001b[0;34m**\u001b[0m\u001b[0mkwds\u001b[0m\u001b[0;34m)\u001b[0m\u001b[0;34m\u001b[0m\u001b[0;34m\u001b[0m\u001b[0m\n\u001b[0m\u001b[1;32m   2153\u001b[0m \u001b[0;34m\u001b[0m\u001b[0m\n\u001b[1;32m   2154\u001b[0m \u001b[0;34m\u001b[0m\u001b[0m\n",
      "\u001b[0;32m~/miniconda/envs/qiime2-2019.1/lib/python3.6/site-packages/pandas/core/groupby/groupby.py\u001b[0m in \u001b[0;36m__init__\u001b[0;34m(self, obj, keys, axis, level, grouper, exclusions, selection, as_index, sort, group_keys, squeeze, observed, **kwargs)\u001b[0m\n\u001b[1;32m    597\u001b[0m                                                     \u001b[0msort\u001b[0m\u001b[0;34m=\u001b[0m\u001b[0msort\u001b[0m\u001b[0;34m,\u001b[0m\u001b[0;34m\u001b[0m\u001b[0;34m\u001b[0m\u001b[0m\n\u001b[1;32m    598\u001b[0m                                                     \u001b[0mobserved\u001b[0m\u001b[0;34m=\u001b[0m\u001b[0mobserved\u001b[0m\u001b[0;34m,\u001b[0m\u001b[0;34m\u001b[0m\u001b[0;34m\u001b[0m\u001b[0m\n\u001b[0;32m--> 599\u001b[0;31m                                                     mutated=self.mutated)\n\u001b[0m\u001b[1;32m    600\u001b[0m \u001b[0;34m\u001b[0m\u001b[0m\n\u001b[1;32m    601\u001b[0m         \u001b[0mself\u001b[0m\u001b[0;34m.\u001b[0m\u001b[0mobj\u001b[0m \u001b[0;34m=\u001b[0m \u001b[0mobj\u001b[0m\u001b[0;34m\u001b[0m\u001b[0;34m\u001b[0m\u001b[0m\n",
      "\u001b[0;32m~/miniconda/envs/qiime2-2019.1/lib/python3.6/site-packages/pandas/core/groupby/groupby.py\u001b[0m in \u001b[0;36m_get_grouper\u001b[0;34m(obj, key, axis, level, sort, observed, mutated, validate)\u001b[0m\n\u001b[1;32m   3289\u001b[0m                 \u001b[0min_axis\u001b[0m\u001b[0;34m,\u001b[0m \u001b[0mname\u001b[0m\u001b[0;34m,\u001b[0m \u001b[0mlevel\u001b[0m\u001b[0;34m,\u001b[0m \u001b[0mgpr\u001b[0m \u001b[0;34m=\u001b[0m \u001b[0;32mFalse\u001b[0m\u001b[0;34m,\u001b[0m \u001b[0;32mNone\u001b[0m\u001b[0;34m,\u001b[0m \u001b[0mgpr\u001b[0m\u001b[0;34m,\u001b[0m \u001b[0;32mNone\u001b[0m\u001b[0;34m\u001b[0m\u001b[0;34m\u001b[0m\u001b[0m\n\u001b[1;32m   3290\u001b[0m             \u001b[0;32melse\u001b[0m\u001b[0;34m:\u001b[0m\u001b[0;34m\u001b[0m\u001b[0;34m\u001b[0m\u001b[0m\n\u001b[0;32m-> 3291\u001b[0;31m                 \u001b[0;32mraise\u001b[0m \u001b[0mKeyError\u001b[0m\u001b[0;34m(\u001b[0m\u001b[0mgpr\u001b[0m\u001b[0;34m)\u001b[0m\u001b[0;34m\u001b[0m\u001b[0;34m\u001b[0m\u001b[0m\n\u001b[0m\u001b[1;32m   3292\u001b[0m         \u001b[0;32melif\u001b[0m \u001b[0misinstance\u001b[0m\u001b[0;34m(\u001b[0m\u001b[0mgpr\u001b[0m\u001b[0;34m,\u001b[0m \u001b[0mGrouper\u001b[0m\u001b[0;34m)\u001b[0m \u001b[0;32mand\u001b[0m \u001b[0mgpr\u001b[0m\u001b[0;34m.\u001b[0m\u001b[0mkey\u001b[0m \u001b[0;32mis\u001b[0m \u001b[0;32mnot\u001b[0m \u001b[0;32mNone\u001b[0m\u001b[0;34m:\u001b[0m\u001b[0;34m\u001b[0m\u001b[0;34m\u001b[0m\u001b[0m\n\u001b[1;32m   3293\u001b[0m             \u001b[0;31m# Add key to exclusions\u001b[0m\u001b[0;34m\u001b[0m\u001b[0;34m\u001b[0m\u001b[0;34m\u001b[0m\u001b[0m\n",
      "\u001b[0;31mKeyError\u001b[0m: 'sample type'"
     ]
    }
   ],
   "source": [
    "grouped = figure2.groupby(['sample type', 'class weights', 'level'])\n",
    "def weighted_stats(x):\n",
    "    mu = x['mean'].mean()\n",
    "    se = sem(x['mean'])\n",
    "    #lower, upper = t.interval(0.95, 5, mu, se)\n",
    "    lower, upper = mu-se, mu+se\n",
    "    return Series([mu, lower, upper], index=['mean', 'lower', 'upper'])\n",
    "figure2 = grouped.apply(weighted_stats)\n",
    "figure2.reset_index(inplace=True)"
   ]
  },
  {
   "cell_type": "code",
   "execution_count": null,
   "metadata": {},
   "outputs": [],
   "source": [
    "old_labels = [\n",
    "    'animal-corpus',\n",
    "    'animal-distal-gut',\n",
    "    'animal-proximal-gut',\n",
    "    'animal-secretion',\n",
    "    'animal-surface',\n",
    "    'plant-corpus',\n",
    "    'plant-rhizosphere',\n",
    "    'sediment-non-saline',\n",
    "    'soil-non-saline',\n",
    "    'surface-non-saline',\n",
    "    'water-non-saline',\n",
    "    'sediment-saline',\n",
    "    'surface-saline',\n",
    "    'water-saline',\n",
    "    'average', 'uniform70', 'bespoke70']\n",
    "new_labels = [\n",
    "    'Other'] * 14 + ['Average', 'Uniform', 'Bespoke']\n",
    "for old, new in zip(old_labels, new_labels):\n",
    "    figure2.loc[figure2['class weights'] == old, 'class weights'] = new\n",
    "old_labels = [\n",
    "    'animal-corpus',\n",
    "    'animal-distal-gut',\n",
    "    'animal-proximal-gut',\n",
    "    'animal-secretion',\n",
    "    'animal-surface',\n",
    "    'plant-corpus',\n",
    "    'plant-rhizosphere',\n",
    "    'sediment-non-saline',\n",
    "    'soil-non-saline',\n",
    "    'surface-non-saline',\n",
    "    'water-non-saline',\n",
    "    'sediment-saline',\n",
    "    'surface-saline',\n",
    "    'water-saline'\n",
    "]\n",
    "new_labels = [\n",
    "    'Animal corpus',\n",
    "    'Animal distal gut',\n",
    "    'Animal proximal gut',\n",
    "    'Animal secretion',\n",
    "    'Animal surface',\n",
    "    'Plant corpus',\n",
    "    'Plant rhizosphere',\n",
    "    'Sediment (non-saline)',\n",
    "    'Soil (non-saline)',\n",
    "    'Surface (non-saline)',\n",
    "    'Water (non-saline)',\n",
    "    'Sediment (saline)',\n",
    "    'Surface (saline)',\n",
    "    'Water (saline)'\n",
    "]\n",
    "for old, new in zip(old_labels, new_labels):\n",
    "    figure2.loc[figure2['sample type'] == old, 'sample type'] = new\n",
    "for old, new in zip((6, 7), ('Genus', 'Species')):\n",
    "    figure2.loc[figure2['level'] == old, 'level'] = new"
   ]
  },
  {
   "cell_type": "code",
   "execution_count": null,
   "metadata": {},
   "outputs": [],
   "source": [
    "figure2"
   ]
  },
  {
   "cell_type": "code",
   "execution_count": null,
   "metadata": {},
   "outputs": [],
   "source": [
    "%%R -i figure2\n",
    "figure2$sample.type <- factor(figure2$sample.type, levels=c(\n",
    " 'Water (saline)',\n",
    " 'Surface (saline)',\n",
    " 'Sediment (saline)',\n",
    " 'Water (non-saline)',\n",
    " 'Surface (non-saline)',\n",
    " 'Soil (non-saline)',\n",
    " 'Sediment (non-saline)',\n",
    " 'Plant rhizosphere',\n",
    " 'Plant corpus',\n",
    " 'Animal surface',\n",
    " 'Animal secretion',\n",
    " 'Animal proximal gut',\n",
    " 'Animal distal gut',\n",
    " 'Animal corpus'))\n",
    "figure2$class.weights <- factor(figure2$class.weights, levels=c(\n",
    "    'Uniform', 'Average', 'Bespoke'\n",
    "))\n",
    "figure2$fill <- paste(figure2$level, figure2$class.weights)\n",
    "figure2$fill <- factor(figure2$fill, levels=c(\n",
    "  'Species Uniform',\n",
    "  'Species Average',\n",
    "  'Species Bespoke',\n",
    "  'Genus Uniform',\n",
    "  'Genus Average',\n",
    "  'Genus Bespoke'))\n",
    "fillPalette <- c(\"#56B4E9\", \"#009E73\", \"#E69F00\", \"#D4ECF9\", \"#BFE6DC\", \"#F8E7BF\")\n",
    "colourPalette <- c(\"#56B4E9\", \"#009E73\", \"#E69F00\", \"#56B4E9\", \"#009E73\", \"#E69F00\")\n",
    "ggplot(data=figure2, aes(x=sample.type, y=mean*100)) +\n",
    "  geom_col(data=figure2[figure2$level == 'Species',], width=0.8, position=position_dodge(width=0.9),\n",
    "           aes(colour=fill, fill=fill)) +\n",
    "  geom_col(data=figure2[figure2$level == 'Genus',], width=0.8, position=position_dodge(width=0.9),\n",
    "           aes(colour=fill, fill=fill)) +\n",
    "  geom_errorbar(data=figure2[figure2$level == 'Species',],\n",
    "                aes(ymin=lower*100, ymax=upper*100, fill=fill),\n",
    "                width=0.4, position=position_dodge(width=0.9), alpha=0.5) +\n",
    "  geom_errorbar(data=figure2[figure2$level == 'Genus',],\n",
    "                aes(ymin=lower*100, ymax=upper*100, fill=fill),\n",
    "                width=0.4, position=position_dodge(width=0.9), alpha=0.5) +\n",
    "  coord_flip(clip=\"off\") +\n",
    "  theme_bw() +\n",
    "  labs(x='EMPO3 Habitat', y='Error Rate (%)') +\n",
    "  scale_fill_manual(name='Level & Weights', values=fillPalette) +\n",
    "  scale_colour_manual(name='Level & Weights', values=colourPalette) +\n",
    "  theme(plot.margin = unit(c(1, 1, 2, 1), \"lines\"),\n",
    "        axis.text.y = element_text(angle = 45)) +\n",
    "  annotation_custom(\n",
    "    grob=grid::textGrob(label = \"Better Performance\"),\n",
    "    xmin=-0.5, xmax=-0.5, ymin=20, ymax=20\n",
    "  ) + \n",
    "  annotation_custom(\n",
    "    grob=linesGrob(arrow=arrow(type=\"open\", ends=\"first\", length=unit(2,\"mm\"))), \n",
    "    xmin=-0.3, xmax=-0.3, ymin=0., ymax=38\n",
    "  )\n",
    "\n",
    "ggsave(file=\"bc-figure1-error-rate.png\", width=5, height=10, dpi=300)"
   ]
  },
  {
   "cell_type": "code",
   "execution_count": null,
   "metadata": {
    "scrolled": false
   },
   "outputs": [],
   "source": [
    "Image(\"bc-figure1-error-rate.png\")"
   ]
  },
  {
   "cell_type": "code",
   "execution_count": null,
   "metadata": {},
   "outputs": [],
   "source": []
  }
 ],
 "metadata": {
  "kernelspec": {
   "display_name": "Python 3",
   "language": "python",
   "name": "python3"
  },
  "language_info": {
   "codemirror_mode": {
    "name": "ipython",
    "version": 3
   },
   "file_extension": ".py",
   "mimetype": "text/x-python",
   "name": "python",
   "nbconvert_exporter": "python",
   "pygments_lexer": "ipython3",
   "version": "3.6.7"
  }
 },
 "nbformat": 4,
 "nbformat_minor": 2
}
